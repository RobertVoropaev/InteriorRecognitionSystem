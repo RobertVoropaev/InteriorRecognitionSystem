{
 "cells": [
  {
   "cell_type": "markdown",
   "metadata": {},
   "source": [
    "# Разработка системы распознавания предметов интерьера в потоковом видео\n",
    "\n",
    "## Выявление частоты классов в датасете"
   ]
  },
  {
   "cell_type": "code",
   "execution_count": 118,
   "metadata": {},
   "outputs": [],
   "source": [
    "import os\n",
    "import shutil\n",
    "\n",
    "import numpy as np\n",
    "import pandas as pd\n",
    "\n",
    "import seaborn as sns\n",
    "sns.set(style=\"white\")\n",
    "\n",
    "%matplotlib inline\n",
    "import matplotlib.pyplot as plt \n",
    "\n",
    "from skimage.io import imshow, imread, imsave"
   ]
  },
  {
   "cell_type": "code",
   "execution_count": 45,
   "metadata": {},
   "outputs": [],
   "source": [
    "index_old_to_new = pd.read_csv('data/ADE20K_filtred/index_old_to_new.csv', \n",
    "                               header=None).rename(columns={0: 'old', 1:'new'})"
   ]
  },
  {
   "cell_type": "code",
   "execution_count": 46,
   "metadata": {},
   "outputs": [
    {
     "data": {
      "text/plain": [
       "<matplotlib.image.AxesImage at 0x7fac7a1ada90>"
      ]
     },
     "execution_count": 46,
     "metadata": {},
     "output_type": "execute_result"
    },
    {
     "data": {
      "image/png": "[encoded data removed]",
      "text/plain": [
       "<Figure size 432x288 with 1 Axes>"
      ]
     },
     "metadata": {
      "needs_background": "light"
     },
     "output_type": "display_data"
    }
   ],
   "source": [
    "dir_path = 'data/ADE20K_filtred/images/train/b/breakroom/'\n",
    "img = imread(dir_path + 'ADE_train_00004524.jpg')\n",
    "seg = imread(dir_path + \"ADE_train_00004524_seg.png\")\n",
    "imshow(seg)"
   ]
  },
  {
   "cell_type": "code",
   "execution_count": 47,
   "metadata": {},
   "outputs": [],
   "source": [
    "class SegEncoder:\n",
    "    def __init__(self, objectnames_path):\n",
    "        with open(objectnames_path, 'r') as f:\n",
    "            self.obj_names = f.readline().split(\"\\t\")\n",
    "        self.obj_names = list(map(lambda name: name.strip(\"\\'\"), self.obj_names))\n",
    "    \n",
    "    def get_class_index(self, pixel):\n",
    "        R = pixel[0]\n",
    "        G = pixel[1]\n",
    "        B = pixel[2]\n",
    "        return int(R / 10 * 256 + G) - 1\n",
    "    \n",
    "    def get_class(self, pixel):\n",
    "        return self.obj_names[self.get_class_index(pixel)]\n",
    "    \n",
    "segEncoder = SegEncoder('data/ADE20K_filtred/objectnames.txt')"
   ]
  },
  {
   "cell_type": "code",
   "execution_count": 49,
   "metadata": {},
   "outputs": [
    {
     "data": {
      "text/plain": [
       "<matplotlib.image.AxesImage at 0x7fac7a393150>"
      ]
     },
     "execution_count": 49,
     "metadata": {},
     "output_type": "execute_result"
    },
    {
     "data": {
      "image/png": "[encoded data removed]",
      "text/plain": [
       "<Figure size 432x288 with 1 Axes>"
      ]
     },
     "metadata": {
      "needs_background": "light"
     },
     "output_type": "display_data"
    }
   ],
   "source": [
    "imshow(remove_useless(seg))"
   ]
  },
  {
   "cell_type": "code",
   "execution_count": 88,
   "metadata": {},
   "outputs": [
    {
     "name": "stdout",
     "output_type": "stream",
     "text": [
      "CPU times: user 12 µs, sys: 0 ns, total: 12 µs\n",
      "Wall time: 19.8 µs\n"
     ]
    }
   ],
   "source": [
    "def get_encoded_seg(seg):\n",
    "    new_seg = seg[:, :, 0].copy()\n",
    "    for i in range(new_seg.shape[0]):\n",
    "        for j in range(new_seg.shape[1]):\n",
    "            pixel = seg[i, j]\n",
    "            class_index = segEncoder.get_class_index(pixel)\n",
    "            if class_index in index_old_to_new.old.to_numpy():\n",
    "                new_seg[i][j] = np.uint8(index_old_to_new[index_old_to_new.old == class_index].new.iloc[0])\n",
    "            else:\n",
    "                new_seg[i][j] = 0\n",
    "\n",
    "        if i % 100 == 0: #progress bar\n",
    "            print(str(i) + '/' + str(new_seg.shape[0]))\n",
    "    print(\"Done\")\n",
    "    return new_seg"
   ]
  },
  {
   "cell_type": "code",
   "execution_count": 89,
   "metadata": {},
   "outputs": [
    {
     "name": "stdout",
     "output_type": "stream",
     "text": [
      "0/240\n",
      "100/240\n",
      "200/240\n",
      "CPU times: user 26.9 s, sys: 224 ms, total: 27.2 s\n",
      "Wall time: 25.8 s\n"
     ]
    }
   ],
   "source": [
    "%%time\n",
    "new_seg = get_encoded_seg(seg)"
   ]
  },
  {
   "cell_type": "markdown",
   "metadata": {},
   "source": [
    "Посмотрим на закодированную картинку"
   ]
  },
  {
   "cell_type": "code",
   "execution_count": 93,
   "metadata": {},
   "outputs": [
    {
     "data": {
      "text/plain": [
       "<matplotlib.image.AxesImage at 0x7fac810a9450>"
      ]
     },
     "execution_count": 93,
     "metadata": {},
     "output_type": "execute_result"
    },
    {
     "data": {
      "image/png": "[encoded data removed]",
      "text/plain": [
       "<Figure size 432x288 with 1 Axes>"
      ]
     },
     "metadata": {
      "needs_background": "light"
     },
     "output_type": "display_data"
    }
   ],
   "source": [
    "imshow(new_seg)"
   ]
  },
  {
   "cell_type": "markdown",
   "metadata": {},
   "source": [
    "Кажется, что закодированная маска содержит не все объекты, но у нас самые частые значения от 0 до 100, что означает очень тёмный цвет"
   ]
  },
  {
   "cell_type": "code",
   "execution_count": 94,
   "metadata": {},
   "outputs": [
    {
     "data": {
      "text/plain": [
       "<matplotlib.image.AxesImage at 0x7fac79cb3d90>"
      ]
     },
     "execution_count": 94,
     "metadata": {},
     "output_type": "execute_result"
    },
    {
     "data": {
      "image/png": "[encoded data removed]",
      "text/plain": [
       "<Figure size 432x288 with 1 Axes>"
      ]
     },
     "metadata": {
      "needs_background": "light"
     },
     "output_type": "display_data"
    }
   ],
   "source": [
    "imshow(new_seg != 0)"
   ]
  },
  {
   "cell_type": "code",
   "execution_count": 95,
   "metadata": {},
   "outputs": [
    {
     "data": {
      "text/plain": [
       "<matplotlib.image.AxesImage at 0x7fac7a785150>"
      ]
     },
     "execution_count": 95,
     "metadata": {},
     "output_type": "execute_result"
    },
    {
     "data": {
      "image/png": "[encoded data removed]",
      "text/plain": [
       "<Figure size 432x288 with 1 Axes>"
      ]
     },
     "metadata": {
      "needs_background": "light"
     },
     "output_type": "display_data"
    }
   ],
   "source": [
    "imshow(new_seg == 94)"
   ]
  },
  {
   "cell_type": "markdown",
   "metadata": {},
   "source": [
    "### Ускорение работы"
   ]
  },
  {
   "cell_type": "markdown",
   "metadata": {},
   "source": [
    "Будем считывать не в в pandas, а в обычный словарь"
   ]
  },
  {
   "cell_type": "code",
   "execution_count": 103,
   "metadata": {},
   "outputs": [],
   "source": [
    "index_old_to_new_dict = dict()\n",
    "with open('data/ADE20K_filtred/index_old_to_new.csv', 'r') as f:\n",
    "    for line in f:\n",
    "        line_arr = line.strip().split(\",\")\n",
    "        index_old_to_new_dict[int(line_arr[0])] = int(line_arr[1])"
   ]
  },
  {
   "cell_type": "code",
   "execution_count": 124,
   "metadata": {},
   "outputs": [],
   "source": [
    "def get_encoded_seg(seg):\n",
    "    new_seg = seg[:, :, 0].copy()\n",
    "    for i in range(new_seg.shape[0]):\n",
    "        for j in range(new_seg.shape[1]):\n",
    "            pixel = seg[i, j]\n",
    "            class_index = segEncoder.get_class_index(pixel)\n",
    "            if class_index in index_old_to_new_dict:\n",
    "                new_seg[i][j] = np.uint8(index_old_to_new_dict[class_index])\n",
    "            else:\n",
    "                new_seg[i][j] = 0\n",
    "\n",
    "    return new_seg"
   ]
  },
  {
   "cell_type": "code",
   "execution_count": 108,
   "metadata": {},
   "outputs": [
    {
     "name": "stdout",
     "output_type": "stream",
     "text": [
      "0/240\n",
      "100/240\n",
      "200/240\n",
      "Done\n",
      "CPU times: user 547 ms, sys: 2.47 ms, total: 549 ms\n",
      "Wall time: 547 ms\n"
     ]
    }
   ],
   "source": [
    "%%time\n",
    "new_seg = get_encoded_seg(seg)"
   ]
  },
  {
   "cell_type": "code",
   "execution_count": 112,
   "metadata": {},
   "outputs": [
    {
     "data": {
      "text/plain": [
       "<matplotlib.image.AxesImage at 0x7fac79ff8410>"
      ]
     },
     "execution_count": 112,
     "metadata": {},
     "output_type": "execute_result"
    },
    {
     "data": {
      "image/png": "[encoded data removed]",
      "text/plain": [
       "<Figure size 432x288 with 1 Axes>"
      ]
     },
     "metadata": {
      "needs_background": "light"
     },
     "output_type": "display_data"
    }
   ],
   "source": [
    "imshow(new_seg)"
   ]
  },
  {
   "cell_type": "markdown",
   "metadata": {},
   "source": [
    "Как мы видим программа значительно ускорилась"
   ]
  },
  {
   "cell_type": "markdown",
   "metadata": {},
   "source": [
    "### Генерирование новой обучающей выборки"
   ]
  },
  {
   "cell_type": "code",
   "execution_count": 116,
   "metadata": {},
   "outputs": [],
   "source": [
    "def get_format(file_name):\n",
    "    name_split = file_name.split(\"_\")\n",
    "    file_format = name_split[0:-1] + name_split[-1].split(\".\")\n",
    "    ade, train_or_val, name = file_format[:3]\n",
    "    extension = file_format[-1]\n",
    "    \n",
    "    description = 0\n",
    "    parts_num = 0\n",
    "    if extension == 'jpg':\n",
    "        description = 'img'\n",
    "    elif extension == 'txt':\n",
    "        description = 'text'\n",
    "    else: #png\n",
    "        description = file_format[3]\n",
    "        if file_format[4].isdigit():\n",
    "            parts_num = int(file_format[4])\n",
    "    return [name, description, train_or_val, parts_num]"
   ]
  },
  {
   "cell_type": "code",
   "execution_count": 140,
   "metadata": {},
   "outputs": [
    {
     "name": "stderr",
     "output_type": "stream",
     "text": [
      "/home/rv/anaconda3/lib/python3.7/site-packages/skimage/io/_io.py:141: UserWarning: data/ADE20K_formated/train/mask/00016708.png is a low contrast image\n",
      "  warn('%s is a low contrast image' % fname)\n",
      "/home/rv/anaconda3/lib/python3.7/site-packages/skimage/io/_io.py:141: UserWarning: data/ADE20K_formated/train/mask/00016149.png is a low contrast image\n",
      "  warn('%s is a low contrast image' % fname)\n",
      "/home/rv/anaconda3/lib/python3.7/site-packages/skimage/io/_io.py:141: UserWarning: data/ADE20K_formated/train/mask/00016856.png is a low contrast image\n",
      "  warn('%s is a low contrast image' % fname)\n",
      "/home/rv/anaconda3/lib/python3.7/site-packages/skimage/io/_io.py:141: UserWarning: data/ADE20K_formated/train/mask/00016199.png is a low contrast image\n",
      "  warn('%s is a low contrast image' % fname)\n"
     ]
    },
    {
     "name": "stdout",
     "output_type": "stream",
     "text": [
      "100\n",
      "200\n",
      "300\n"
     ]
    },
    {
     "name": "stderr",
     "output_type": "stream",
     "text": [
      "/home/rv/anaconda3/lib/python3.7/site-packages/skimage/io/_io.py:141: UserWarning: data/ADE20K_formated/val/mask/00001454.png is a low contrast image\n",
      "  warn('%s is a low contrast image' % fname)\n"
     ]
    },
    {
     "name": "stdout",
     "output_type": "stream",
     "text": [
      "400\n",
      "500\n",
      "600\n",
      "700\n",
      "800\n"
     ]
    },
    {
     "name": "stderr",
     "output_type": "stream",
     "text": [
      "/home/rv/anaconda3/lib/python3.7/site-packages/skimage/io/_io.py:141: UserWarning: data/ADE20K_formated/train/mask/00010641.png is a low contrast image\n",
      "  warn('%s is a low contrast image' % fname)\n"
     ]
    },
    {
     "name": "stdout",
     "output_type": "stream",
     "text": [
      "900\n",
      "1000\n"
     ]
    },
    {
     "name": "stderr",
     "output_type": "stream",
     "text": [
      "/home/rv/anaconda3/lib/python3.7/site-packages/skimage/io/_io.py:141: UserWarning: data/ADE20K_formated/train/mask/00007576.png is a low contrast image\n",
      "  warn('%s is a low contrast image' % fname)\n",
      "/home/rv/anaconda3/lib/python3.7/site-packages/skimage/io/_io.py:141: UserWarning: data/ADE20K_formated/train/mask/00007569.png is a low contrast image\n",
      "  warn('%s is a low contrast image' % fname)\n",
      "/home/rv/anaconda3/lib/python3.7/site-packages/skimage/io/_io.py:141: UserWarning: data/ADE20K_formated/train/mask/00007568.png is a low contrast image\n",
      "  warn('%s is a low contrast image' % fname)\n",
      "/home/rv/anaconda3/lib/python3.7/site-packages/skimage/io/_io.py:141: UserWarning: data/ADE20K_formated/train/mask/00007572.png is a low contrast image\n",
      "  warn('%s is a low contrast image' % fname)\n",
      "/home/rv/anaconda3/lib/python3.7/site-packages/skimage/io/_io.py:141: UserWarning: data/ADE20K_formated/val/mask/00001338.png is a low contrast image\n",
      "  warn('%s is a low contrast image' % fname)\n",
      "/home/rv/anaconda3/lib/python3.7/site-packages/skimage/io/_io.py:141: UserWarning: data/ADE20K_formated/train/mask/00007533.png is a low contrast image\n",
      "  warn('%s is a low contrast image' % fname)\n"
     ]
    },
    {
     "name": "stdout",
     "output_type": "stream",
     "text": [
      "1100\n"
     ]
    },
    {
     "name": "stderr",
     "output_type": "stream",
     "text": [
      "/home/rv/anaconda3/lib/python3.7/site-packages/skimage/io/_io.py:141: UserWarning: data/ADE20K_formated/train/mask/00007536.png is a low contrast image\n",
      "  warn('%s is a low contrast image' % fname)\n",
      "/home/rv/anaconda3/lib/python3.7/site-packages/skimage/io/_io.py:141: UserWarning: data/ADE20K_formated/train/mask/00007540.png is a low contrast image\n",
      "  warn('%s is a low contrast image' % fname)\n",
      "/home/rv/anaconda3/lib/python3.7/site-packages/skimage/io/_io.py:141: UserWarning: data/ADE20K_formated/val/mask/00000338.png is a low contrast image\n",
      "  warn('%s is a low contrast image' % fname)\n",
      "/home/rv/anaconda3/lib/python3.7/site-packages/skimage/io/_io.py:141: UserWarning: data/ADE20K_formated/train/mask/00007531.png is a low contrast image\n",
      "  warn('%s is a low contrast image' % fname)\n",
      "/home/rv/anaconda3/lib/python3.7/site-packages/skimage/io/_io.py:141: UserWarning: data/ADE20K_formated/train/mask/00007562.png is a low contrast image\n",
      "  warn('%s is a low contrast image' % fname)\n",
      "/home/rv/anaconda3/lib/python3.7/site-packages/skimage/io/_io.py:141: UserWarning: data/ADE20K_formated/train/mask/00007564.png is a low contrast image\n",
      "  warn('%s is a low contrast image' % fname)\n",
      "/home/rv/anaconda3/lib/python3.7/site-packages/skimage/io/_io.py:141: UserWarning: data/ADE20K_formated/val/mask/00000339.png is a low contrast image\n",
      "  warn('%s is a low contrast image' % fname)\n",
      "/home/rv/anaconda3/lib/python3.7/site-packages/skimage/io/_io.py:141: UserWarning: data/ADE20K_formated/train/mask/00007557.png is a low contrast image\n",
      "  warn('%s is a low contrast image' % fname)\n",
      "/home/rv/anaconda3/lib/python3.7/site-packages/skimage/io/_io.py:141: UserWarning: data/ADE20K_formated/train/mask/00007560.png is a low contrast image\n",
      "  warn('%s is a low contrast image' % fname)\n",
      "/home/rv/anaconda3/lib/python3.7/site-packages/skimage/io/_io.py:141: UserWarning: data/ADE20K_formated/train/mask/00007558.png is a low contrast image\n",
      "  warn('%s is a low contrast image' % fname)\n",
      "/home/rv/anaconda3/lib/python3.7/site-packages/skimage/io/_io.py:141: UserWarning: data/ADE20K_formated/train/mask/00000578.png is a low contrast image\n",
      "  warn('%s is a low contrast image' % fname)\n",
      "/home/rv/anaconda3/lib/python3.7/site-packages/skimage/io/_io.py:141: UserWarning: data/ADE20K_formated/train/mask/00007561.png is a low contrast image\n",
      "  warn('%s is a low contrast image' % fname)\n",
      "/home/rv/anaconda3/lib/python3.7/site-packages/skimage/io/_io.py:141: UserWarning: data/ADE20K_formated/train/mask/00019511.png is a low contrast image\n",
      "  warn('%s is a low contrast image' % fname)\n",
      "/home/rv/anaconda3/lib/python3.7/site-packages/skimage/io/_io.py:141: UserWarning: data/ADE20K_formated/train/mask/00015454.png is a low contrast image\n",
      "  warn('%s is a low contrast image' % fname)\n",
      "/home/rv/anaconda3/lib/python3.7/site-packages/skimage/io/_io.py:141: UserWarning: data/ADE20K_formated/train/mask/00015461.png is a low contrast image\n",
      "  warn('%s is a low contrast image' % fname)\n",
      "/home/rv/anaconda3/lib/python3.7/site-packages/skimage/io/_io.py:141: UserWarning: data/ADE20K_formated/train/mask/00015460.png is a low contrast image\n",
      "  warn('%s is a low contrast image' % fname)\n",
      "/home/rv/anaconda3/lib/python3.7/site-packages/skimage/io/_io.py:141: UserWarning: data/ADE20K_formated/train/mask/00015311.png is a low contrast image\n",
      "  warn('%s is a low contrast image' % fname)\n"
     ]
    },
    {
     "name": "stdout",
     "output_type": "stream",
     "text": [
      "1200\n",
      "1300\n"
     ]
    },
    {
     "name": "stderr",
     "output_type": "stream",
     "text": [
      "/home/rv/anaconda3/lib/python3.7/site-packages/skimage/io/_io.py:141: UserWarning: data/ADE20K_formated/train/mask/00015186.png is a low contrast image\n",
      "  warn('%s is a low contrast image' % fname)\n"
     ]
    },
    {
     "name": "stdout",
     "output_type": "stream",
     "text": [
      "1400\n"
     ]
    },
    {
     "name": "stderr",
     "output_type": "stream",
     "text": [
      "/home/rv/anaconda3/lib/python3.7/site-packages/skimage/io/_io.py:141: UserWarning: data/ADE20K_formated/train/mask/00015413.png is a low contrast image\n",
      "  warn('%s is a low contrast image' % fname)\n"
     ]
    },
    {
     "name": "stdout",
     "output_type": "stream",
     "text": [
      "1500\n",
      "1600\n"
     ]
    },
    {
     "name": "stderr",
     "output_type": "stream",
     "text": [
      "/home/rv/anaconda3/lib/python3.7/site-packages/skimage/io/_io.py:141: UserWarning: data/ADE20K_formated/train/mask/00014148.png is a low contrast image\n",
      "  warn('%s is a low contrast image' % fname)\n",
      "/home/rv/anaconda3/lib/python3.7/site-packages/skimage/io/_io.py:141: UserWarning: data/ADE20K_formated/train/mask/00014149.png is a low contrast image\n",
      "  warn('%s is a low contrast image' % fname)\n"
     ]
    },
    {
     "name": "stdout",
     "output_type": "stream",
     "text": [
      "1700\n"
     ]
    },
    {
     "name": "stderr",
     "output_type": "stream",
     "text": [
      "/home/rv/anaconda3/lib/python3.7/site-packages/skimage/io/_io.py:141: UserWarning: data/ADE20K_formated/train/mask/00015945.png is a low contrast image\n",
      "  warn('%s is a low contrast image' % fname)\n",
      "/home/rv/anaconda3/lib/python3.7/site-packages/skimage/io/_io.py:141: UserWarning: data/ADE20K_formated/train/mask/00015802.png is a low contrast image\n",
      "  warn('%s is a low contrast image' % fname)\n",
      "/home/rv/anaconda3/lib/python3.7/site-packages/skimage/io/_io.py:141: UserWarning: data/ADE20K_formated/train/mask/00015809.png is a low contrast image\n",
      "  warn('%s is a low contrast image' % fname)\n"
     ]
    },
    {
     "name": "stdout",
     "output_type": "stream",
     "text": [
      "1800\n"
     ]
    },
    {
     "name": "stderr",
     "output_type": "stream",
     "text": [
      "/home/rv/anaconda3/lib/python3.7/site-packages/skimage/io/_io.py:141: UserWarning: data/ADE20K_formated/val/mask/00001446.png is a low contrast image\n",
      "  warn('%s is a low contrast image' % fname)\n",
      "/home/rv/anaconda3/lib/python3.7/site-packages/skimage/io/_io.py:141: UserWarning: data/ADE20K_formated/train/mask/00006843.png is a low contrast image\n",
      "  warn('%s is a low contrast image' % fname)\n"
     ]
    },
    {
     "name": "stdout",
     "output_type": "stream",
     "text": [
      "1900\n"
     ]
    },
    {
     "name": "stderr",
     "output_type": "stream",
     "text": [
      "/home/rv/anaconda3/lib/python3.7/site-packages/skimage/io/_io.py:141: UserWarning: data/ADE20K_formated/train/mask/00007332.png is a low contrast image\n",
      "  warn('%s is a low contrast image' % fname)\n",
      "/home/rv/anaconda3/lib/python3.7/site-packages/skimage/io/_io.py:141: UserWarning: data/ADE20K_formated/train/mask/00007331.png is a low contrast image\n",
      "  warn('%s is a low contrast image' % fname)\n"
     ]
    },
    {
     "name": "stdout",
     "output_type": "stream",
     "text": [
      "2000\n"
     ]
    },
    {
     "name": "stderr",
     "output_type": "stream",
     "text": [
      "/home/rv/anaconda3/lib/python3.7/site-packages/skimage/io/_io.py:141: UserWarning: data/ADE20K_formated/train/mask/00007047.png is a low contrast image\n",
      "  warn('%s is a low contrast image' % fname)\n",
      "/home/rv/anaconda3/lib/python3.7/site-packages/skimage/io/_io.py:141: UserWarning: data/ADE20K_formated/train/mask/00006964.png is a low contrast image\n",
      "  warn('%s is a low contrast image' % fname)\n"
     ]
    },
    {
     "name": "stdout",
     "output_type": "stream",
     "text": [
      "2100\n"
     ]
    },
    {
     "name": "stderr",
     "output_type": "stream",
     "text": [
      "/home/rv/anaconda3/lib/python3.7/site-packages/skimage/io/_io.py:141: UserWarning: data/ADE20K_formated/train/mask/00006938.png is a low contrast image\n",
      "  warn('%s is a low contrast image' % fname)\n",
      "/home/rv/anaconda3/lib/python3.7/site-packages/skimage/io/_io.py:141: UserWarning: data/ADE20K_formated/train/mask/00007154.png is a low contrast image\n",
      "  warn('%s is a low contrast image' % fname)\n",
      "/home/rv/anaconda3/lib/python3.7/site-packages/skimage/io/_io.py:141: UserWarning: data/ADE20K_formated/train/mask/00006936.png is a low contrast image\n",
      "  warn('%s is a low contrast image' % fname)\n"
     ]
    },
    {
     "name": "stdout",
     "output_type": "stream",
     "text": [
      "2200\n"
     ]
    },
    {
     "name": "stderr",
     "output_type": "stream",
     "text": [
      "/home/rv/anaconda3/lib/python3.7/site-packages/skimage/io/_io.py:141: UserWarning: data/ADE20K_formated/val/mask/00000312.png is a low contrast image\n",
      "  warn('%s is a low contrast image' % fname)\n",
      "/home/rv/anaconda3/lib/python3.7/site-packages/skimage/io/_io.py:141: UserWarning: data/ADE20K_formated/train/mask/00007242.png is a low contrast image\n",
      "  warn('%s is a low contrast image' % fname)\n",
      "/home/rv/anaconda3/lib/python3.7/site-packages/skimage/io/_io.py:141: UserWarning: data/ADE20K_formated/train/mask/00007101.png is a low contrast image\n",
      "  warn('%s is a low contrast image' % fname)\n"
     ]
    },
    {
     "name": "stdout",
     "output_type": "stream",
     "text": [
      "2300\n"
     ]
    },
    {
     "name": "stderr",
     "output_type": "stream",
     "text": [
      "/home/rv/anaconda3/lib/python3.7/site-packages/skimage/io/_io.py:141: UserWarning: data/ADE20K_formated/train/mask/00006904.png is a low contrast image\n",
      "  warn('%s is a low contrast image' % fname)\n",
      "/home/rv/anaconda3/lib/python3.7/site-packages/skimage/io/_io.py:141: UserWarning: data/ADE20K_formated/val/mask/00001316.png is a low contrast image\n",
      "  warn('%s is a low contrast image' % fname)\n",
      "/home/rv/anaconda3/lib/python3.7/site-packages/skimage/io/_io.py:141: UserWarning: data/ADE20K_formated/train/mask/00007115.png is a low contrast image\n",
      "  warn('%s is a low contrast image' % fname)\n",
      "/home/rv/anaconda3/lib/python3.7/site-packages/skimage/io/_io.py:141: UserWarning: data/ADE20K_formated/train/mask/00006908.png is a low contrast image\n",
      "  warn('%s is a low contrast image' % fname)\n"
     ]
    },
    {
     "name": "stdout",
     "output_type": "stream",
     "text": [
      "2400\n"
     ]
    },
    {
     "name": "stderr",
     "output_type": "stream",
     "text": [
      "/home/rv/anaconda3/lib/python3.7/site-packages/skimage/io/_io.py:141: UserWarning: data/ADE20K_formated/train/mask/00006742.png is a low contrast image\n",
      "  warn('%s is a low contrast image' % fname)\n",
      "/home/rv/anaconda3/lib/python3.7/site-packages/skimage/io/_io.py:141: UserWarning: data/ADE20K_formated/train/mask/00006763.png is a low contrast image\n",
      "  warn('%s is a low contrast image' % fname)\n",
      "/home/rv/anaconda3/lib/python3.7/site-packages/skimage/io/_io.py:141: UserWarning: data/ADE20K_formated/train/mask/00006751.png is a low contrast image\n",
      "  warn('%s is a low contrast image' % fname)\n"
     ]
    },
    {
     "name": "stdout",
     "output_type": "stream",
     "text": [
      "2500\n"
     ]
    },
    {
     "name": "stderr",
     "output_type": "stream",
     "text": [
      "/home/rv/anaconda3/lib/python3.7/site-packages/skimage/io/_io.py:141: UserWarning: data/ADE20K_formated/train/mask/00007373.png is a low contrast image\n",
      "  warn('%s is a low contrast image' % fname)\n"
     ]
    },
    {
     "name": "stdout",
     "output_type": "stream",
     "text": [
      "2600\n"
     ]
    },
    {
     "name": "stderr",
     "output_type": "stream",
     "text": [
      "/home/rv/anaconda3/lib/python3.7/site-packages/skimage/io/_io.py:141: UserWarning: data/ADE20K_formated/train/mask/00006657.png is a low contrast image\n",
      "  warn('%s is a low contrast image' % fname)\n",
      "/home/rv/anaconda3/lib/python3.7/site-packages/skimage/io/_io.py:141: UserWarning: data/ADE20K_formated/train/mask/00006665.png is a low contrast image\n",
      "  warn('%s is a low contrast image' % fname)\n",
      "/home/rv/anaconda3/lib/python3.7/site-packages/skimage/io/_io.py:141: UserWarning: data/ADE20K_formated/train/mask/00006654.png is a low contrast image\n",
      "  warn('%s is a low contrast image' % fname)\n",
      "/home/rv/anaconda3/lib/python3.7/site-packages/skimage/io/_io.py:141: UserWarning: data/ADE20K_formated/train/mask/00006653.png is a low contrast image\n",
      "  warn('%s is a low contrast image' % fname)\n",
      "/home/rv/anaconda3/lib/python3.7/site-packages/skimage/io/_io.py:141: UserWarning: data/ADE20K_formated/train/mask/00011767.png is a low contrast image\n",
      "  warn('%s is a low contrast image' % fname)\n",
      "/home/rv/anaconda3/lib/python3.7/site-packages/skimage/io/_io.py:141: UserWarning: data/ADE20K_formated/train/mask/00011906.png is a low contrast image\n",
      "  warn('%s is a low contrast image' % fname)\n",
      "/home/rv/anaconda3/lib/python3.7/site-packages/skimage/io/_io.py:141: UserWarning: data/ADE20K_formated/train/mask/00011905.png is a low contrast image\n",
      "  warn('%s is a low contrast image' % fname)\n",
      "/home/rv/anaconda3/lib/python3.7/site-packages/skimage/io/_io.py:141: UserWarning: data/ADE20K_formated/train/mask/00011904.png is a low contrast image\n",
      "  warn('%s is a low contrast image' % fname)\n"
     ]
    },
    {
     "name": "stdout",
     "output_type": "stream",
     "text": [
      "2700\n"
     ]
    },
    {
     "name": "stderr",
     "output_type": "stream",
     "text": [
      "/home/rv/anaconda3/lib/python3.7/site-packages/skimage/io/_io.py:141: UserWarning: data/ADE20K_formated/train/mask/00012223.png is a low contrast image\n",
      "  warn('%s is a low contrast image' % fname)\n",
      "/home/rv/anaconda3/lib/python3.7/site-packages/skimage/io/_io.py:141: UserWarning: data/ADE20K_formated/train/mask/00012228.png is a low contrast image\n",
      "  warn('%s is a low contrast image' % fname)\n",
      "/home/rv/anaconda3/lib/python3.7/site-packages/skimage/io/_io.py:141: UserWarning: data/ADE20K_formated/train/mask/00012240.png is a low contrast image\n",
      "  warn('%s is a low contrast image' % fname)\n",
      "/home/rv/anaconda3/lib/python3.7/site-packages/skimage/io/_io.py:141: UserWarning: data/ADE20K_formated/train/mask/00012217.png is a low contrast image\n",
      "  warn('%s is a low contrast image' % fname)\n",
      "/home/rv/anaconda3/lib/python3.7/site-packages/skimage/io/_io.py:141: UserWarning: data/ADE20K_formated/train/mask/00012226.png is a low contrast image\n",
      "  warn('%s is a low contrast image' % fname)\n",
      "/home/rv/anaconda3/lib/python3.7/site-packages/skimage/io/_io.py:141: UserWarning: data/ADE20K_formated/train/mask/00012233.png is a low contrast image\n",
      "  warn('%s is a low contrast image' % fname)\n",
      "/home/rv/anaconda3/lib/python3.7/site-packages/skimage/io/_io.py:141: UserWarning: data/ADE20K_formated/train/mask/00012231.png is a low contrast image\n",
      "  warn('%s is a low contrast image' % fname)\n",
      "/home/rv/anaconda3/lib/python3.7/site-packages/skimage/io/_io.py:141: UserWarning: data/ADE20K_formated/train/mask/00012218.png is a low contrast image\n",
      "  warn('%s is a low contrast image' % fname)\n",
      "/home/rv/anaconda3/lib/python3.7/site-packages/skimage/io/_io.py:141: UserWarning: data/ADE20K_formated/train/mask/00012250.png is a low contrast image\n",
      "  warn('%s is a low contrast image' % fname)\n",
      "/home/rv/anaconda3/lib/python3.7/site-packages/skimage/io/_io.py:141: UserWarning: data/ADE20K_formated/train/mask/00011716.png is a low contrast image\n",
      "  warn('%s is a low contrast image' % fname)\n",
      "/home/rv/anaconda3/lib/python3.7/site-packages/skimage/io/_io.py:141: UserWarning: data/ADE20K_formated/train/mask/00011719.png is a low contrast image\n",
      "  warn('%s is a low contrast image' % fname)\n",
      "/home/rv/anaconda3/lib/python3.7/site-packages/skimage/io/_io.py:141: UserWarning: data/ADE20K_formated/train/mask/00011715.png is a low contrast image\n",
      "  warn('%s is a low contrast image' % fname)\n",
      "/home/rv/anaconda3/lib/python3.7/site-packages/skimage/io/_io.py:141: UserWarning: data/ADE20K_formated/train/mask/00011713.png is a low contrast image\n",
      "  warn('%s is a low contrast image' % fname)\n",
      "/home/rv/anaconda3/lib/python3.7/site-packages/skimage/io/_io.py:141: UserWarning: data/ADE20K_formated/train/mask/00012267.png is a low contrast image\n",
      "  warn('%s is a low contrast image' % fname)\n",
      "/home/rv/anaconda3/lib/python3.7/site-packages/skimage/io/_io.py:141: UserWarning: data/ADE20K_formated/train/mask/00012266.png is a low contrast image\n",
      "  warn('%s is a low contrast image' % fname)\n",
      "/home/rv/anaconda3/lib/python3.7/site-packages/skimage/io/_io.py:141: UserWarning: data/ADE20K_formated/train/mask/00012268.png is a low contrast image\n",
      "  warn('%s is a low contrast image' % fname)\n",
      "/home/rv/anaconda3/lib/python3.7/site-packages/skimage/io/_io.py:141: UserWarning: data/ADE20K_formated/train/mask/00011886.png is a low contrast image\n",
      "  warn('%s is a low contrast image' % fname)\n"
     ]
    },
    {
     "name": "stdout",
     "output_type": "stream",
     "text": [
      "2800\n"
     ]
    },
    {
     "name": "stderr",
     "output_type": "stream",
     "text": [
      "/home/rv/anaconda3/lib/python3.7/site-packages/skimage/io/_io.py:141: UserWarning: data/ADE20K_formated/train/mask/00013933.png is a low contrast image\n",
      "  warn('%s is a low contrast image' % fname)\n"
     ]
    },
    {
     "name": "stdout",
     "output_type": "stream",
     "text": [
      "2900\n"
     ]
    },
    {
     "name": "stderr",
     "output_type": "stream",
     "text": [
      "/home/rv/anaconda3/lib/python3.7/site-packages/skimage/io/_io.py:141: UserWarning: data/ADE20K_formated/train/mask/00008830.png is a low contrast image\n",
      "  warn('%s is a low contrast image' % fname)\n",
      "/home/rv/anaconda3/lib/python3.7/site-packages/skimage/io/_io.py:141: UserWarning: data/ADE20K_formated/train/mask/00009454.png is a low contrast image\n",
      "  warn('%s is a low contrast image' % fname)\n",
      "/home/rv/anaconda3/lib/python3.7/site-packages/skimage/io/_io.py:141: UserWarning: data/ADE20K_formated/train/mask/00009463.png is a low contrast image\n",
      "  warn('%s is a low contrast image' % fname)\n",
      "/home/rv/anaconda3/lib/python3.7/site-packages/skimage/io/_io.py:141: UserWarning: data/ADE20K_formated/train/mask/00009459.png is a low contrast image\n",
      "  warn('%s is a low contrast image' % fname)\n"
     ]
    },
    {
     "name": "stdout",
     "output_type": "stream",
     "text": [
      "3000\n",
      "3100\n"
     ]
    },
    {
     "name": "stderr",
     "output_type": "stream",
     "text": [
      "/home/rv/anaconda3/lib/python3.7/site-packages/skimage/io/_io.py:141: UserWarning: data/ADE20K_formated/train/mask/00009585.png is a low contrast image\n",
      "  warn('%s is a low contrast image' % fname)\n",
      "/home/rv/anaconda3/lib/python3.7/site-packages/skimage/io/_io.py:141: UserWarning: data/ADE20K_formated/train/mask/00009606.png is a low contrast image\n",
      "  warn('%s is a low contrast image' % fname)\n"
     ]
    },
    {
     "name": "stdout",
     "output_type": "stream",
     "text": [
      "3200\n"
     ]
    },
    {
     "name": "stderr",
     "output_type": "stream",
     "text": [
      "/home/rv/anaconda3/lib/python3.7/site-packages/skimage/io/_io.py:141: UserWarning: data/ADE20K_formated/train/mask/00009519.png is a low contrast image\n",
      "  warn('%s is a low contrast image' % fname)\n",
      "/home/rv/anaconda3/lib/python3.7/site-packages/skimage/io/_io.py:141: UserWarning: data/ADE20K_formated/train/mask/00019922.png is a low contrast image\n",
      "  warn('%s is a low contrast image' % fname)\n"
     ]
    },
    {
     "name": "stdout",
     "output_type": "stream",
     "text": [
      "3300\n"
     ]
    },
    {
     "name": "stderr",
     "output_type": "stream",
     "text": [
      "/home/rv/anaconda3/lib/python3.7/site-packages/skimage/io/_io.py:141: UserWarning: data/ADE20K_formated/train/mask/00019693.png is a low contrast image\n",
      "  warn('%s is a low contrast image' % fname)\n"
     ]
    },
    {
     "name": "stdout",
     "output_type": "stream",
     "text": [
      "3400\n"
     ]
    },
    {
     "name": "stderr",
     "output_type": "stream",
     "text": [
      "/home/rv/anaconda3/lib/python3.7/site-packages/skimage/io/_io.py:141: UserWarning: data/ADE20K_formated/train/mask/00019653.png is a low contrast image\n",
      "  warn('%s is a low contrast image' % fname)\n",
      "/home/rv/anaconda3/lib/python3.7/site-packages/skimage/io/_io.py:141: UserWarning: data/ADE20K_formated/train/mask/00019607.png is a low contrast image\n",
      "  warn('%s is a low contrast image' % fname)\n",
      "/home/rv/anaconda3/lib/python3.7/site-packages/skimage/io/_io.py:141: UserWarning: data/ADE20K_formated/train/mask/00019670.png is a low contrast image\n",
      "  warn('%s is a low contrast image' % fname)\n"
     ]
    },
    {
     "name": "stdout",
     "output_type": "stream",
     "text": [
      "3500\n"
     ]
    },
    {
     "name": "stderr",
     "output_type": "stream",
     "text": [
      "/home/rv/anaconda3/lib/python3.7/site-packages/skimage/io/_io.py:141: UserWarning: data/ADE20K_formated/train/mask/00005613.png is a low contrast image\n",
      "  warn('%s is a low contrast image' % fname)\n",
      "/home/rv/anaconda3/lib/python3.7/site-packages/skimage/io/_io.py:141: UserWarning: data/ADE20K_formated/train/mask/00005641.png is a low contrast image\n",
      "  warn('%s is a low contrast image' % fname)\n",
      "/home/rv/anaconda3/lib/python3.7/site-packages/skimage/io/_io.py:141: UserWarning: data/ADE20K_formated/train/mask/00005638.png is a low contrast image\n",
      "  warn('%s is a low contrast image' % fname)\n"
     ]
    },
    {
     "name": "stdout",
     "output_type": "stream",
     "text": [
      "3600\n"
     ]
    },
    {
     "name": "stderr",
     "output_type": "stream",
     "text": [
      "/home/rv/anaconda3/lib/python3.7/site-packages/skimage/io/_io.py:141: UserWarning: data/ADE20K_formated/train/mask/00005542.png is a low contrast image\n",
      "  warn('%s is a low contrast image' % fname)\n",
      "/home/rv/anaconda3/lib/python3.7/site-packages/skimage/io/_io.py:141: UserWarning: data/ADE20K_formated/train/mask/00005100.png is a low contrast image\n",
      "  warn('%s is a low contrast image' % fname)\n",
      "/home/rv/anaconda3/lib/python3.7/site-packages/skimage/io/_io.py:141: UserWarning: data/ADE20K_formated/train/mask/00005102.png is a low contrast image\n",
      "  warn('%s is a low contrast image' % fname)\n",
      "/home/rv/anaconda3/lib/python3.7/site-packages/skimage/io/_io.py:141: UserWarning: data/ADE20K_formated/train/mask/00006103.png is a low contrast image\n",
      "  warn('%s is a low contrast image' % fname)\n",
      "/home/rv/anaconda3/lib/python3.7/site-packages/skimage/io/_io.py:141: UserWarning: data/ADE20K_formated/train/mask/00006033.png is a low contrast image\n",
      "  warn('%s is a low contrast image' % fname)\n"
     ]
    },
    {
     "name": "stdout",
     "output_type": "stream",
     "text": [
      "3700\n"
     ]
    },
    {
     "name": "stderr",
     "output_type": "stream",
     "text": [
      "/home/rv/anaconda3/lib/python3.7/site-packages/skimage/io/_io.py:141: UserWarning: data/ADE20K_formated/train/mask/00006083.png is a low contrast image\n",
      "  warn('%s is a low contrast image' % fname)\n",
      "/home/rv/anaconda3/lib/python3.7/site-packages/skimage/io/_io.py:141: UserWarning: data/ADE20K_formated/train/mask/00005979.png is a low contrast image\n",
      "  warn('%s is a low contrast image' % fname)\n",
      "/home/rv/anaconda3/lib/python3.7/site-packages/skimage/io/_io.py:141: UserWarning: data/ADE20K_formated/train/mask/00006013.png is a low contrast image\n",
      "  warn('%s is a low contrast image' % fname)\n",
      "/home/rv/anaconda3/lib/python3.7/site-packages/skimage/io/_io.py:141: UserWarning: data/ADE20K_formated/train/mask/00006027.png is a low contrast image\n",
      "  warn('%s is a low contrast image' % fname)\n",
      "/home/rv/anaconda3/lib/python3.7/site-packages/skimage/io/_io.py:141: UserWarning: data/ADE20K_formated/train/mask/00005999.png is a low contrast image\n",
      "  warn('%s is a low contrast image' % fname)\n",
      "/home/rv/anaconda3/lib/python3.7/site-packages/skimage/io/_io.py:141: UserWarning: data/ADE20K_formated/train/mask/00006143.png is a low contrast image\n",
      "  warn('%s is a low contrast image' % fname)\n",
      "/home/rv/anaconda3/lib/python3.7/site-packages/skimage/io/_io.py:141: UserWarning: data/ADE20K_formated/val/mask/00001269.png is a low contrast image\n",
      "  warn('%s is a low contrast image' % fname)\n",
      "/home/rv/anaconda3/lib/python3.7/site-packages/skimage/io/_io.py:141: UserWarning: data/ADE20K_formated/train/mask/00006126.png is a low contrast image\n",
      "  warn('%s is a low contrast image' % fname)\n",
      "/home/rv/anaconda3/lib/python3.7/site-packages/skimage/io/_io.py:141: UserWarning: data/ADE20K_formated/train/mask/00005994.png is a low contrast image\n",
      "  warn('%s is a low contrast image' % fname)\n",
      "/home/rv/anaconda3/lib/python3.7/site-packages/skimage/io/_io.py:141: UserWarning: data/ADE20K_formated/train/mask/00006145.png is a low contrast image\n",
      "  warn('%s is a low contrast image' % fname)\n",
      "/home/rv/anaconda3/lib/python3.7/site-packages/skimage/io/_io.py:141: UserWarning: data/ADE20K_formated/train/mask/00006071.png is a low contrast image\n",
      "  warn('%s is a low contrast image' % fname)\n",
      "/home/rv/anaconda3/lib/python3.7/site-packages/skimage/io/_io.py:141: UserWarning: data/ADE20K_formated/train/mask/00006029.png is a low contrast image\n",
      "  warn('%s is a low contrast image' % fname)\n",
      "/home/rv/anaconda3/lib/python3.7/site-packages/skimage/io/_io.py:141: UserWarning: data/ADE20K_formated/train/mask/00006051.png is a low contrast image\n",
      "  warn('%s is a low contrast image' % fname)\n"
     ]
    },
    {
     "name": "stdout",
     "output_type": "stream",
     "text": [
      "3800\n"
     ]
    },
    {
     "name": "stderr",
     "output_type": "stream",
     "text": [
      "/home/rv/anaconda3/lib/python3.7/site-packages/skimage/io/_io.py:141: UserWarning: data/ADE20K_formated/train/mask/00006069.png is a low contrast image\n",
      "  warn('%s is a low contrast image' % fname)\n",
      "/home/rv/anaconda3/lib/python3.7/site-packages/skimage/io/_io.py:141: UserWarning: data/ADE20K_formated/train/mask/00006132.png is a low contrast image\n",
      "  warn('%s is a low contrast image' % fname)\n",
      "/home/rv/anaconda3/lib/python3.7/site-packages/skimage/io/_io.py:141: UserWarning: data/ADE20K_formated/val/mask/00001270.png is a low contrast image\n",
      "  warn('%s is a low contrast image' % fname)\n",
      "/home/rv/anaconda3/lib/python3.7/site-packages/skimage/io/_io.py:141: UserWarning: data/ADE20K_formated/train/mask/00006113.png is a low contrast image\n",
      "  warn('%s is a low contrast image' % fname)\n",
      "/home/rv/anaconda3/lib/python3.7/site-packages/skimage/io/_io.py:141: UserWarning: data/ADE20K_formated/train/mask/00005167.png is a low contrast image\n",
      "  warn('%s is a low contrast image' % fname)\n",
      "/home/rv/anaconda3/lib/python3.7/site-packages/skimage/io/_io.py:141: UserWarning: data/ADE20K_formated/train/mask/00005174.png is a low contrast image\n",
      "  warn('%s is a low contrast image' % fname)\n",
      "/home/rv/anaconda3/lib/python3.7/site-packages/skimage/io/_io.py:141: UserWarning: data/ADE20K_formated/train/mask/00005176.png is a low contrast image\n",
      "  warn('%s is a low contrast image' % fname)\n"
     ]
    },
    {
     "name": "stdout",
     "output_type": "stream",
     "text": [
      "3900\n"
     ]
    },
    {
     "name": "stderr",
     "output_type": "stream",
     "text": [
      "/home/rv/anaconda3/lib/python3.7/site-packages/skimage/io/_io.py:141: UserWarning: data/ADE20K_formated/train/mask/00005187.png is a low contrast image\n",
      "  warn('%s is a low contrast image' % fname)\n",
      "/home/rv/anaconda3/lib/python3.7/site-packages/skimage/io/_io.py:141: UserWarning: data/ADE20K_formated/train/mask/00005197.png is a low contrast image\n",
      "  warn('%s is a low contrast image' % fname)\n",
      "/home/rv/anaconda3/lib/python3.7/site-packages/skimage/io/_io.py:141: UserWarning: data/ADE20K_formated/train/mask/00005193.png is a low contrast image\n",
      "  warn('%s is a low contrast image' % fname)\n"
     ]
    },
    {
     "name": "stdout",
     "output_type": "stream",
     "text": [
      "4000\n",
      "4100\n"
     ]
    },
    {
     "name": "stderr",
     "output_type": "stream",
     "text": [
      "/home/rv/anaconda3/lib/python3.7/site-packages/skimage/io/_io.py:141: UserWarning: data/ADE20K_formated/train/mask/00005972.png is a low contrast image\n",
      "  warn('%s is a low contrast image' % fname)\n",
      "/home/rv/anaconda3/lib/python3.7/site-packages/skimage/io/_io.py:141: UserWarning: data/ADE20K_formated/train/mask/00005977.png is a low contrast image\n",
      "  warn('%s is a low contrast image' % fname)\n",
      "/home/rv/anaconda3/lib/python3.7/site-packages/skimage/io/_io.py:141: UserWarning: data/ADE20K_formated/train/mask/00005975.png is a low contrast image\n",
      "  warn('%s is a low contrast image' % fname)\n",
      "/home/rv/anaconda3/lib/python3.7/site-packages/skimage/io/_io.py:141: UserWarning: data/ADE20K_formated/train/mask/00008802.png is a low contrast image\n",
      "  warn('%s is a low contrast image' % fname)\n"
     ]
    },
    {
     "name": "stdout",
     "output_type": "stream",
     "text": [
      "4200\n"
     ]
    },
    {
     "name": "stderr",
     "output_type": "stream",
     "text": [
      "/home/rv/anaconda3/lib/python3.7/site-packages/skimage/io/_io.py:141: UserWarning: data/ADE20K_formated/train/mask/00008462.png is a low contrast image\n",
      "  warn('%s is a low contrast image' % fname)\n",
      "/home/rv/anaconda3/lib/python3.7/site-packages/skimage/io/_io.py:141: UserWarning: data/ADE20K_formated/train/mask/00008480.png is a low contrast image\n",
      "  warn('%s is a low contrast image' % fname)\n"
     ]
    },
    {
     "name": "stdout",
     "output_type": "stream",
     "text": [
      "4300\n"
     ]
    },
    {
     "name": "stderr",
     "output_type": "stream",
     "text": [
      "/home/rv/anaconda3/lib/python3.7/site-packages/skimage/io/_io.py:141: UserWarning: data/ADE20K_formated/train/mask/00008373.png is a low contrast image\n",
      "  warn('%s is a low contrast image' % fname)\n"
     ]
    },
    {
     "name": "stdout",
     "output_type": "stream",
     "text": [
      "4400\n",
      "4500\n"
     ]
    },
    {
     "name": "stderr",
     "output_type": "stream",
     "text": [
      "/home/rv/anaconda3/lib/python3.7/site-packages/skimage/io/_io.py:141: UserWarning: data/ADE20K_formated/train/mask/00014791.png is a low contrast image\n",
      "  warn('%s is a low contrast image' % fname)\n",
      "/home/rv/anaconda3/lib/python3.7/site-packages/skimage/io/_io.py:141: UserWarning: data/ADE20K_formated/train/mask/00014799.png is a low contrast image\n",
      "  warn('%s is a low contrast image' % fname)\n",
      "/home/rv/anaconda3/lib/python3.7/site-packages/skimage/io/_io.py:141: UserWarning: data/ADE20K_formated/train/mask/00014812.png is a low contrast image\n",
      "  warn('%s is a low contrast image' % fname)\n",
      "/home/rv/anaconda3/lib/python3.7/site-packages/skimage/io/_io.py:141: UserWarning: data/ADE20K_formated/train/mask/00014902.png is a low contrast image\n",
      "  warn('%s is a low contrast image' % fname)\n",
      "/home/rv/anaconda3/lib/python3.7/site-packages/skimage/io/_io.py:141: UserWarning: data/ADE20K_formated/train/mask/00014800.png is a low contrast image\n",
      "  warn('%s is a low contrast image' % fname)\n"
     ]
    },
    {
     "name": "stdout",
     "output_type": "stream",
     "text": [
      "4600\n"
     ]
    },
    {
     "name": "stderr",
     "output_type": "stream",
     "text": [
      "/home/rv/anaconda3/lib/python3.7/site-packages/skimage/io/_io.py:141: UserWarning: data/ADE20K_formated/train/mask/00007928.png is a low contrast image\n",
      "  warn('%s is a low contrast image' % fname)\n",
      "/home/rv/anaconda3/lib/python3.7/site-packages/skimage/io/_io.py:141: UserWarning: data/ADE20K_formated/train/mask/00008297.png is a low contrast image\n",
      "  warn('%s is a low contrast image' % fname)\n",
      "/home/rv/anaconda3/lib/python3.7/site-packages/skimage/io/_io.py:141: UserWarning: data/ADE20K_formated/train/mask/00019387.png is a low contrast image\n",
      "  warn('%s is a low contrast image' % fname)\n"
     ]
    },
    {
     "name": "stdout",
     "output_type": "stream",
     "text": [
      "4700\n"
     ]
    },
    {
     "name": "stderr",
     "output_type": "stream",
     "text": [
      "/home/rv/anaconda3/lib/python3.7/site-packages/skimage/io/_io.py:141: UserWarning: data/ADE20K_formated/train/mask/00019209.png is a low contrast image\n",
      "  warn('%s is a low contrast image' % fname)\n",
      "/home/rv/anaconda3/lib/python3.7/site-packages/skimage/io/_io.py:141: UserWarning: data/ADE20K_formated/train/mask/00019101.png is a low contrast image\n",
      "  warn('%s is a low contrast image' % fname)\n",
      "/home/rv/anaconda3/lib/python3.7/site-packages/skimage/io/_io.py:141: UserWarning: data/ADE20K_formated/train/mask/00000961.png is a low contrast image\n",
      "  warn('%s is a low contrast image' % fname)\n",
      "/home/rv/anaconda3/lib/python3.7/site-packages/skimage/io/_io.py:141: UserWarning: data/ADE20K_formated/train/mask/00004456.png is a low contrast image\n",
      "  warn('%s is a low contrast image' % fname)\n"
     ]
    },
    {
     "name": "stdout",
     "output_type": "stream",
     "text": [
      "4800\n"
     ]
    },
    {
     "name": "stderr",
     "output_type": "stream",
     "text": [
      "/home/rv/anaconda3/lib/python3.7/site-packages/skimage/io/_io.py:141: UserWarning: data/ADE20K_formated/train/mask/00004457.png is a low contrast image\n",
      "  warn('%s is a low contrast image' % fname)\n",
      "/home/rv/anaconda3/lib/python3.7/site-packages/skimage/io/_io.py:141: UserWarning: data/ADE20K_formated/train/mask/00004441.png is a low contrast image\n",
      "  warn('%s is a low contrast image' % fname)\n",
      "/home/rv/anaconda3/lib/python3.7/site-packages/skimage/io/_io.py:141: UserWarning: data/ADE20K_formated/train/mask/00004450.png is a low contrast image\n",
      "  warn('%s is a low contrast image' % fname)\n",
      "/home/rv/anaconda3/lib/python3.7/site-packages/skimage/io/_io.py:141: UserWarning: data/ADE20K_formated/train/mask/00002477.png is a low contrast image\n",
      "  warn('%s is a low contrast image' % fname)\n",
      "/home/rv/anaconda3/lib/python3.7/site-packages/skimage/io/_io.py:141: UserWarning: data/ADE20K_formated/train/mask/00002476.png is a low contrast image\n",
      "  warn('%s is a low contrast image' % fname)\n",
      "/home/rv/anaconda3/lib/python3.7/site-packages/skimage/io/_io.py:141: UserWarning: data/ADE20K_formated/train/mask/00004371.png is a low contrast image\n",
      "  warn('%s is a low contrast image' % fname)\n",
      "/home/rv/anaconda3/lib/python3.7/site-packages/skimage/io/_io.py:141: UserWarning: data/ADE20K_formated/train/mask/00004372.png is a low contrast image\n",
      "  warn('%s is a low contrast image' % fname)\n"
     ]
    },
    {
     "name": "stdout",
     "output_type": "stream",
     "text": [
      "4900\n"
     ]
    },
    {
     "name": "stderr",
     "output_type": "stream",
     "text": [
      "/home/rv/anaconda3/lib/python3.7/site-packages/skimage/io/_io.py:141: UserWarning: data/ADE20K_formated/train/mask/00004388.png is a low contrast image\n",
      "  warn('%s is a low contrast image' % fname)\n",
      "/home/rv/anaconda3/lib/python3.7/site-packages/skimage/io/_io.py:141: UserWarning: data/ADE20K_formated/train/mask/00004124.png is a low contrast image\n",
      "  warn('%s is a low contrast image' % fname)\n"
     ]
    },
    {
     "name": "stdout",
     "output_type": "stream",
     "text": [
      "5000\n",
      "5100\n",
      "5200\n",
      "5300\n",
      "5400\n",
      "5500\n",
      "5600\n",
      "5700\n",
      "5800\n",
      "5900\n"
     ]
    },
    {
     "name": "stderr",
     "output_type": "stream",
     "text": [
      "/home/rv/anaconda3/lib/python3.7/site-packages/skimage/io/_io.py:141: UserWarning: data/ADE20K_formated/train/mask/00003531.png is a low contrast image\n",
      "  warn('%s is a low contrast image' % fname)\n"
     ]
    },
    {
     "name": "stdout",
     "output_type": "stream",
     "text": [
      "6000\n",
      "6100\n"
     ]
    },
    {
     "name": "stderr",
     "output_type": "stream",
     "text": [
      "/home/rv/anaconda3/lib/python3.7/site-packages/skimage/io/_io.py:141: UserWarning: data/ADE20K_formated/train/mask/00003766.png is a low contrast image\n",
      "  warn('%s is a low contrast image' % fname)\n"
     ]
    },
    {
     "name": "stdout",
     "output_type": "stream",
     "text": [
      "6200\n"
     ]
    },
    {
     "name": "stderr",
     "output_type": "stream",
     "text": [
      "/home/rv/anaconda3/lib/python3.7/site-packages/skimage/io/_io.py:141: UserWarning: data/ADE20K_formated/train/mask/00003905.png is a low contrast image\n",
      "  warn('%s is a low contrast image' % fname)\n"
     ]
    },
    {
     "name": "stdout",
     "output_type": "stream",
     "text": [
      "6300\n",
      "6400\n"
     ]
    },
    {
     "name": "stderr",
     "output_type": "stream",
     "text": [
      "/home/rv/anaconda3/lib/python3.7/site-packages/skimage/io/_io.py:141: UserWarning: data/ADE20K_formated/train/mask/00004264.png is a low contrast image\n",
      "  warn('%s is a low contrast image' % fname)\n"
     ]
    },
    {
     "name": "stdout",
     "output_type": "stream",
     "text": [
      "6500\n"
     ]
    },
    {
     "name": "stderr",
     "output_type": "stream",
     "text": [
      "/home/rv/anaconda3/lib/python3.7/site-packages/skimage/io/_io.py:141: UserWarning: data/ADE20K_formated/train/mask/00002382.png is a low contrast image\n",
      "  warn('%s is a low contrast image' % fname)\n",
      "/home/rv/anaconda3/lib/python3.7/site-packages/skimage/io/_io.py:141: UserWarning: data/ADE20K_formated/train/mask/00004294.png is a low contrast image\n",
      "  warn('%s is a low contrast image' % fname)\n",
      "/home/rv/anaconda3/lib/python3.7/site-packages/skimage/io/_io.py:141: UserWarning: data/ADE20K_formated/train/mask/00004302.png is a low contrast image\n",
      "  warn('%s is a low contrast image' % fname)\n",
      "/home/rv/anaconda3/lib/python3.7/site-packages/skimage/io/_io.py:141: UserWarning: data/ADE20K_formated/train/mask/00003176.png is a low contrast image\n",
      "  warn('%s is a low contrast image' % fname)\n"
     ]
    },
    {
     "name": "stdout",
     "output_type": "stream",
     "text": [
      "6600\n",
      "6700\n",
      "6800\n",
      "6900\n",
      "7000\n",
      "7100\n",
      "7200\n",
      "7300\n"
     ]
    },
    {
     "name": "stderr",
     "output_type": "stream",
     "text": [
      "/home/rv/anaconda3/lib/python3.7/site-packages/skimage/io/_io.py:141: UserWarning: data/ADE20K_formated/train/mask/00002293.png is a low contrast image\n",
      "  warn('%s is a low contrast image' % fname)\n",
      "/home/rv/anaconda3/lib/python3.7/site-packages/skimage/io/_io.py:141: UserWarning: data/ADE20K_formated/train/mask/00002272.png is a low contrast image\n",
      "  warn('%s is a low contrast image' % fname)\n",
      "/home/rv/anaconda3/lib/python3.7/site-packages/skimage/io/_io.py:141: UserWarning: data/ADE20K_formated/train/mask/00009871.png is a low contrast image\n",
      "  warn('%s is a low contrast image' % fname)\n"
     ]
    },
    {
     "name": "stdout",
     "output_type": "stream",
     "text": [
      "7400\n"
     ]
    },
    {
     "name": "stderr",
     "output_type": "stream",
     "text": [
      "/home/rv/anaconda3/lib/python3.7/site-packages/skimage/io/_io.py:141: UserWarning: data/ADE20K_formated/val/mask/00000444.png is a low contrast image\n",
      "  warn('%s is a low contrast image' % fname)\n",
      "/home/rv/anaconda3/lib/python3.7/site-packages/skimage/io/_io.py:141: UserWarning: data/ADE20K_formated/train/mask/00009769.png is a low contrast image\n",
      "  warn('%s is a low contrast image' % fname)\n",
      "/home/rv/anaconda3/lib/python3.7/site-packages/skimage/io/_io.py:141: UserWarning: data/ADE20K_formated/train/mask/00001691.png is a low contrast image\n",
      "  warn('%s is a low contrast image' % fname)\n",
      "/home/rv/anaconda3/lib/python3.7/site-packages/skimage/io/_io.py:141: UserWarning: data/ADE20K_formated/train/mask/00001695.png is a low contrast image\n",
      "  warn('%s is a low contrast image' % fname)\n",
      "/home/rv/anaconda3/lib/python3.7/site-packages/skimage/io/_io.py:141: UserWarning: data/ADE20K_formated/train/mask/00001689.png is a low contrast image\n",
      "  warn('%s is a low contrast image' % fname)\n",
      "/home/rv/anaconda3/lib/python3.7/site-packages/skimage/io/_io.py:141: UserWarning: data/ADE20K_formated/train/mask/00001650.png is a low contrast image\n",
      "  warn('%s is a low contrast image' % fname)\n",
      "/home/rv/anaconda3/lib/python3.7/site-packages/skimage/io/_io.py:141: UserWarning: data/ADE20K_formated/train/mask/00001672.png is a low contrast image\n",
      "  warn('%s is a low contrast image' % fname)\n",
      "/home/rv/anaconda3/lib/python3.7/site-packages/skimage/io/_io.py:141: UserWarning: data/ADE20K_formated/train/mask/00001637.png is a low contrast image\n",
      "  warn('%s is a low contrast image' % fname)\n",
      "/home/rv/anaconda3/lib/python3.7/site-packages/skimage/io/_io.py:141: UserWarning: data/ADE20K_formated/train/mask/00001693.png is a low contrast image\n",
      "  warn('%s is a low contrast image' % fname)\n",
      "/home/rv/anaconda3/lib/python3.7/site-packages/skimage/io/_io.py:141: UserWarning: data/ADE20K_formated/val/mask/00000034.png is a low contrast image\n",
      "  warn('%s is a low contrast image' % fname)\n"
     ]
    },
    {
     "name": "stdout",
     "output_type": "stream",
     "text": [
      "7500\n"
     ]
    },
    {
     "name": "stderr",
     "output_type": "stream",
     "text": [
      "/home/rv/anaconda3/lib/python3.7/site-packages/skimage/io/_io.py:141: UserWarning: data/ADE20K_formated/train/mask/00001634.png is a low contrast image\n",
      "  warn('%s is a low contrast image' % fname)\n",
      "/home/rv/anaconda3/lib/python3.7/site-packages/skimage/io/_io.py:141: UserWarning: data/ADE20K_formated/train/mask/00001651.png is a low contrast image\n",
      "  warn('%s is a low contrast image' % fname)\n",
      "/home/rv/anaconda3/lib/python3.7/site-packages/skimage/io/_io.py:141: UserWarning: data/ADE20K_formated/train/mask/00001670.png is a low contrast image\n",
      "  warn('%s is a low contrast image' % fname)\n",
      "/home/rv/anaconda3/lib/python3.7/site-packages/skimage/io/_io.py:141: UserWarning: data/ADE20K_formated/train/mask/00001663.png is a low contrast image\n",
      "  warn('%s is a low contrast image' % fname)\n",
      "/home/rv/anaconda3/lib/python3.7/site-packages/skimage/io/_io.py:141: UserWarning: data/ADE20K_formated/train/mask/00001683.png is a low contrast image\n",
      "  warn('%s is a low contrast image' % fname)\n",
      "/home/rv/anaconda3/lib/python3.7/site-packages/skimage/io/_io.py:141: UserWarning: data/ADE20K_formated/train/mask/00001692.png is a low contrast image\n",
      "  warn('%s is a low contrast image' % fname)\n",
      "/home/rv/anaconda3/lib/python3.7/site-packages/skimage/io/_io.py:141: UserWarning: data/ADE20K_formated/train/mask/00001700.png is a low contrast image\n",
      "  warn('%s is a low contrast image' % fname)\n",
      "/home/rv/anaconda3/lib/python3.7/site-packages/skimage/io/_io.py:141: UserWarning: data/ADE20K_formated/train/mask/00001658.png is a low contrast image\n",
      "  warn('%s is a low contrast image' % fname)\n",
      "/home/rv/anaconda3/lib/python3.7/site-packages/skimage/io/_io.py:141: UserWarning: data/ADE20K_formated/train/mask/00001664.png is a low contrast image\n",
      "  warn('%s is a low contrast image' % fname)\n",
      "/home/rv/anaconda3/lib/python3.7/site-packages/skimage/io/_io.py:141: UserWarning: data/ADE20K_formated/train/mask/00001635.png is a low contrast image\n",
      "  warn('%s is a low contrast image' % fname)\n",
      "/home/rv/anaconda3/lib/python3.7/site-packages/skimage/io/_io.py:141: UserWarning: data/ADE20K_formated/train/mask/00001653.png is a low contrast image\n",
      "  warn('%s is a low contrast image' % fname)\n",
      "/home/rv/anaconda3/lib/python3.7/site-packages/skimage/io/_io.py:141: UserWarning: data/ADE20K_formated/val/mask/00000033.png is a low contrast image\n",
      "  warn('%s is a low contrast image' % fname)\n",
      "/home/rv/anaconda3/lib/python3.7/site-packages/skimage/io/_io.py:141: UserWarning: data/ADE20K_formated/train/mask/00001696.png is a low contrast image\n",
      "  warn('%s is a low contrast image' % fname)\n",
      "/home/rv/anaconda3/lib/python3.7/site-packages/skimage/io/_io.py:141: UserWarning: data/ADE20K_formated/train/mask/00001652.png is a low contrast image\n",
      "  warn('%s is a low contrast image' % fname)\n",
      "/home/rv/anaconda3/lib/python3.7/site-packages/skimage/io/_io.py:141: UserWarning: data/ADE20K_formated/train/mask/00001228.png is a low contrast image\n",
      "  warn('%s is a low contrast image' % fname)\n",
      "/home/rv/anaconda3/lib/python3.7/site-packages/skimage/io/_io.py:141: UserWarning: data/ADE20K_formated/train/mask/00001215.png is a low contrast image\n",
      "  warn('%s is a low contrast image' % fname)\n",
      "/home/rv/anaconda3/lib/python3.7/site-packages/skimage/io/_io.py:141: UserWarning: data/ADE20K_formated/train/mask/00001231.png is a low contrast image\n",
      "  warn('%s is a low contrast image' % fname)\n"
     ]
    },
    {
     "name": "stdout",
     "output_type": "stream",
     "text": [
      "7600\n"
     ]
    },
    {
     "name": "stderr",
     "output_type": "stream",
     "text": [
      "/home/rv/anaconda3/lib/python3.7/site-packages/skimage/io/_io.py:141: UserWarning: data/ADE20K_formated/train/mask/00001808.png is a low contrast image\n",
      "  warn('%s is a low contrast image' % fname)\n",
      "/home/rv/anaconda3/lib/python3.7/site-packages/skimage/io/_io.py:141: UserWarning: data/ADE20K_formated/train/mask/00001908.png is a low contrast image\n",
      "  warn('%s is a low contrast image' % fname)\n",
      "/home/rv/anaconda3/lib/python3.7/site-packages/skimage/io/_io.py:141: UserWarning: data/ADE20K_formated/val/mask/00000048.png is a low contrast image\n",
      "  warn('%s is a low contrast image' % fname)\n",
      "/home/rv/anaconda3/lib/python3.7/site-packages/skimage/io/_io.py:141: UserWarning: data/ADE20K_formated/train/mask/00001904.png is a low contrast image\n",
      "  warn('%s is a low contrast image' % fname)\n",
      "/home/rv/anaconda3/lib/python3.7/site-packages/skimage/io/_io.py:141: UserWarning: data/ADE20K_formated/train/mask/00001906.png is a low contrast image\n",
      "  warn('%s is a low contrast image' % fname)\n",
      "/home/rv/anaconda3/lib/python3.7/site-packages/skimage/io/_io.py:141: UserWarning: data/ADE20K_formated/train/mask/00001895.png is a low contrast image\n",
      "  warn('%s is a low contrast image' % fname)\n",
      "/home/rv/anaconda3/lib/python3.7/site-packages/skimage/io/_io.py:141: UserWarning: data/ADE20K_formated/train/mask/00001936.png is a low contrast image\n",
      "  warn('%s is a low contrast image' % fname)\n",
      "/home/rv/anaconda3/lib/python3.7/site-packages/skimage/io/_io.py:141: UserWarning: data/ADE20K_formated/train/mask/00001955.png is a low contrast image\n",
      "  warn('%s is a low contrast image' % fname)\n"
     ]
    },
    {
     "name": "stdout",
     "output_type": "stream",
     "text": [
      "7700\n"
     ]
    },
    {
     "name": "stderr",
     "output_type": "stream",
     "text": [
      "/home/rv/anaconda3/lib/python3.7/site-packages/skimage/io/_io.py:141: UserWarning: data/ADE20K_formated/train/mask/00001958.png is a low contrast image\n",
      "  warn('%s is a low contrast image' % fname)\n",
      "/home/rv/anaconda3/lib/python3.7/site-packages/skimage/io/_io.py:141: UserWarning: data/ADE20K_formated/train/mask/00001899.png is a low contrast image\n",
      "  warn('%s is a low contrast image' % fname)\n",
      "/home/rv/anaconda3/lib/python3.7/site-packages/skimage/io/_io.py:141: UserWarning: data/ADE20K_formated/train/mask/00001894.png is a low contrast image\n",
      "  warn('%s is a low contrast image' % fname)\n",
      "/home/rv/anaconda3/lib/python3.7/site-packages/skimage/io/_io.py:141: UserWarning: data/ADE20K_formated/train/mask/00011524.png is a low contrast image\n",
      "  warn('%s is a low contrast image' % fname)\n"
     ]
    },
    {
     "name": "stdout",
     "output_type": "stream",
     "text": [
      "7800\n"
     ]
    },
    {
     "name": "stderr",
     "output_type": "stream",
     "text": [
      "/home/rv/anaconda3/lib/python3.7/site-packages/skimage/io/_io.py:141: UserWarning: data/ADE20K_formated/train/mask/00011563.png is a low contrast image\n",
      "  warn('%s is a low contrast image' % fname)\n"
     ]
    },
    {
     "name": "stdout",
     "output_type": "stream",
     "text": [
      "7900\n"
     ]
    },
    {
     "name": "stderr",
     "output_type": "stream",
     "text": [
      "/home/rv/anaconda3/lib/python3.7/site-packages/skimage/io/_io.py:141: UserWarning: data/ADE20K_formated/train/mask/00010861.png is a low contrast image\n",
      "  warn('%s is a low contrast image' % fname)\n"
     ]
    },
    {
     "name": "stdout",
     "output_type": "stream",
     "text": [
      "8000\n",
      "8100\n",
      "8200\n",
      "8300\n",
      "8400\n",
      "8500\n",
      "8600\n",
      "8700\n",
      "Done\n",
      "CPU times: user 20h 58min 11s, sys: 22.7 s, total: 20h 58min 34s\n",
      "Wall time: 21h 2min 18s\n"
     ]
    }
   ],
   "source": [
    "%%time\n",
    "dir_path = 'data/ADE20K_filtred/images/train/'\n",
    "\n",
    "img_dst_train = 'data/ADE20K_formated/train/img/'\n",
    "mask_dst_train = 'data/ADE20K_formated/train/mask/'\n",
    "\n",
    "img_dst_val = 'data/ADE20K_formated/val/img/'\n",
    "mask_dst_val = 'data/ADE20K_formated/val/mask/'\n",
    "\n",
    "s = 0\n",
    "for path, dirs, files in os.walk(dir_path):\n",
    "        if files:\n",
    "            for file in files:\n",
    "                name, description, train_or_val, parts_num = get_format(file)\n",
    "                \n",
    "                img_dst = img_dst_train\n",
    "                mask_dst = mask_dst_train\n",
    "                if train_or_val == 'val':\n",
    "                    img_dst = img_dst_val\n",
    "                    mask_dst = mask_dst_val\n",
    "                \n",
    "                if description == 'img':\n",
    "                    img_path = path + '/' + file\n",
    "                    shutil.copyfile(img_path, img_dst + name + '.jpg')\n",
    "                    s += 1\n",
    "                    \n",
    "                    if s % 100 == 0:\n",
    "                        print(s)\n",
    "                    \n",
    "                elif description == 'seg':\n",
    "                    seg_path = path + '/' + file\n",
    "                    seg = imread(seg_path)\n",
    "                    new_seg = get_encoded_seg(seg)\n",
    "                    imsave(mask_dst + name + '.png', new_seg)\n",
    "                \n",
    "print(\"Done\")"
   ]
  },
  {
   "cell_type": "code",
   "execution_count": null,
   "metadata": {},
   "outputs": [],
   "source": []
  }
 ],
 "metadata": {
  "kernelspec": {
   "display_name": "Python 3",
   "language": "python",
   "name": "python3"
  },
  "language_info": {
   "codemirror_mode": {
    "name": "ipython",
    "version": 3
   },
   "file_extension": ".py",
   "mimetype": "text/x-python",
   "name": "python",
   "nbconvert_exporter": "python",
   "pygments_lexer": "ipython3",
   "version": "3.7.4"
  }
 },
 "nbformat": 4,
 "nbformat_minor": 2
}
