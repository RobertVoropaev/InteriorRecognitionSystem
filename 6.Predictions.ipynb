{
 "cells": [
  {
   "cell_type": "code",
   "execution_count": 8,
   "metadata": {
    "scrolled": true
   },
   "outputs": [],
   "source": [
    "%matplotlib inline\n",
    "\n",
    "#System\n",
    "import os\n",
    "import shutil\n",
    "\n",
    "#Base\n",
    "import numpy as np\n",
    "import pandas as pd\n",
    "import matplotlib.pyplot as plt\n",
    "import cv2\n",
    "import random\n",
    "from skimage.io import imread, imshow, imsave\n",
    "\n",
    "#Keras\n",
    "from keras.models import Sequential, Model\n",
    "from keras.layers import Dense, Flatten, Activation, Input\n",
    "from keras.layers import Conv2D, MaxPool2D, UpSampling2D, Conv2DTranspose\n",
    "from keras.layers import Dropout,BatchNormalization, Concatenate\n",
    "from keras.optimizers import Adam, SGD, RMSprop\n",
    "from keras.callbacks import ModelCheckpoint, CSVLogger\n",
    "\n",
    "#Preprocessing\n",
    "from keras.preprocessing.image import ImageDataGenerator\n",
    "from keras.utils import Sequence, to_categorical\n",
    "\n",
    "#Models\n",
    "from keras.applications.vgg16 import VGG16\n",
    "\n",
    "#GPU\n",
    "import tensorflow as tf\n",
    "from keras import backend as K\n",
    "config = tf.ConfigProto() \n",
    "config.gpu_options.allow_growth = True\n",
    "sess = tf.Session(config=config) \n",
    "K.set_session(sess)\n",
    "\n",
    "#Seed\n",
    "seed = 99\n",
    "np.random.seed(seed)\n",
    "random.seed(seed)"
   ]
  },
  {
   "cell_type": "code",
   "execution_count": 9,
   "metadata": {},
   "outputs": [
    {
     "data": {
      "text/plain": [
       "[[0, [0], ['-']],\n",
       " [1, [2977, 975, 446], ['wall', 'floor, flooring', 'ceiling']],\n",
       " [2,\n",
       "  [470, 2678, 2271, 56, 2585, 180],\n",
       "  ['chair', 'swivel chair', 'seat', 'armchair', 'stool', 'bench']],\n",
       " [3, [1734, 790], ['painting, picture', 'drawing']],\n",
       " [4,\n",
       "  [349, 2328, 238, 2984, 2035],\n",
       "  ['cabinet', 'shelf', 'bookcase', 'wardrobe, closet, press', 'rack']],\n",
       " [5,\n",
       "  [3054, 211, 2421, 1746],\n",
       "  ['windowpane, window',\n",
       "   'blind, screen',\n",
       "   'skylight, fanlight',\n",
       "   'pane, pane of glass, window glass']],\n",
       " [6,\n",
       "  [2683, 3086, 723, 570, 1373, 626, 593],\n",
       "  ['table',\n",
       "   'work surface',\n",
       "   'desk',\n",
       "   'coffee table, cocktail table',\n",
       "   'kitchen island',\n",
       "   'counter',\n",
       "   'console table, console']],\n",
       " [7,\n",
       "  [1450, 1394, 2242, 377, 2508, 375, 981, 1444, 372, 479],\n",
       "  ['light, light source',\n",
       "   'lamp',\n",
       "   'sconce',\n",
       "   'candlestick, candle holder',\n",
       "   'spotlight, spot',\n",
       "   'candle, taper, wax light',\n",
       "   'fluorescent, fluorescent fixture',\n",
       "   'light bulb, lightbulb, bulb, incandescent lamp, electric light, electric-light bulb',\n",
       "   'candelabrum, candelabra',\n",
       "   'chandelier, pendant, pendent']],\n",
       " [8,\n",
       "  [773, 782, 777, 2250],\n",
       "  ['door', 'double door', 'doorframe, doorcase', 'screen door, screen']],\n",
       " [9,\n",
       "  [164, 688, 1868, 842, 205, 641, 2472],\n",
       "  ['bed',\n",
       "   'cushion',\n",
       "   'pillow',\n",
       "   'eiderdown, duvet, continental quilt',\n",
       "   'blanket, cover',\n",
       "   'cradle',\n",
       "   'sofa, couch, lounge']],\n",
       " [10, [1830], ['person, individual, someone, somebody, mortal, soul']],\n",
       " [11, [2177, 2713], ['rug, carpet, carpeting', 'tapestry, tapis']],\n",
       " [12, [2387, 896], ['sink', 'faucet, spigot']],\n",
       " [13,\n",
       "  [490, 489, 788],\n",
       "  ['chest of drawers, chest, bureau, dresser', 'chest', 'drawer']],\n",
       " [14, [529], ['clock']],\n",
       " [15,\n",
       "  [2597, 1138],\n",
       "  ['stove, kitchen stove, range, kitchen range, cooking stove',\n",
       "   'grill, grille, grillwork']],\n",
       " [16,\n",
       "  [1755, 235, 1484, 1661, 761, 241, 1701],\n",
       "  ['paper',\n",
       "   'book',\n",
       "   'magazine',\n",
       "   'notebook',\n",
       "   'document, written document, papers',\n",
       "   'booklet, brochure, folder, leaflet, pamphlet',\n",
       "   'ottoman, pouf, pouffe, puff, hassock']],\n",
       " [17, [942], ['fireplace, hearth, open fireplace']],\n",
       " [18,\n",
       "  [590, 1406, 1369, 2682],\n",
       "  ['computer, computing machine, computing device, data processor, electronic computer, information processing system',\n",
       "   'laptop, laptop computer',\n",
       "   'keyboard',\n",
       "   'system']],\n",
       " [19, [2729], ['telephone, phone, telephone set']],\n",
       " [20, [2792], ['toilet, can, commode, crapper, pot, potty, stool, throne']],\n",
       " [21, [154], ['bathtub, bathing tub, bath, tub']],\n",
       " [22, [2095], ['refrigerator, icebox']],\n",
       " [23,\n",
       "  [1582, 2732, 3108, 2253],\n",
       "  ['monitor, monitoring device',\n",
       "   'television receiver, television, television set, tv, tv set, idiot box, boob tube, telly, goggle box',\n",
       "   'screen, crt screen',\n",
       "   'screen, silver screen, projection screen']],\n",
       " [24, [1707, 1550], ['oven', 'microwave, microwave oven']],\n",
       " [25, [568, 2722], ['coffee maker', 'teapot']],\n",
       " [26,\n",
       "  [37, 2338, 1345, 2660, 2876, 1196],\n",
       "  ['apparel, wearing apparel, dress, clothes',\n",
       "   'shirt',\n",
       "   'jacket',\n",
       "   'sweater, jumper',\n",
       "   'trouser, pant',\n",
       "   'hat, chapeau, lid']],\n",
       " [27, [2355, 2361], ['shower', 'shower stall, shower bath']],\n",
       " [28,\n",
       "  [122, 307, 246],\n",
       "  ['bar', 'buffet, counter, sideboard', 'booth, cubicle, stall, kiosk']],\n",
       " [29,\n",
       "  [9, 2045, 893],\n",
       "  ['air conditioner, air conditioning', 'radiator', 'fan']],\n",
       " [30,\n",
       "  [2529, 2530, 2568],\n",
       "  ['stairs, steps', 'stairway, staircase', 'step, stair']],\n",
       " [31,\n",
       "  [201, 317, 219],\n",
       "  ['blackboard, chalkboard', 'bulletin board, notice board', 'board, plank']]]"
      ]
     },
     "execution_count": 9,
     "metadata": {},
     "output_type": "execute_result"
    }
   ],
   "source": [
    "class_encoded = []\n",
    "with open('static/class_encode.txt') as f:\n",
    "    for line in f:\n",
    "        line = line.strip()\n",
    "        new_index, old_index_arr, class_name_arr = line.split(\";\")\n",
    "        \n",
    "        new_index = int(new_index)\n",
    "        old_index_arr = list(map(int, old_index_arr.split(\"|\")))\n",
    "        class_name_arr = class_name_arr.split(\"|\")\n",
    "        class_encoded.append([new_index, old_index_arr, class_name_arr])\n",
    "\n",
    "class_encoded"
   ]
  },
  {
   "cell_type": "code",
   "execution_count": 10,
   "metadata": {},
   "outputs": [],
   "source": [
    "def get_model(img_shape, num_classes):\n",
    "    block0_input = Input(shape=(img_shape, img_shape, 3))\n",
    "\n",
    "    block1_conv1 = Conv2D(64, (3, 3), padding=\"same\", activation=\"relu\")(block0_input)\n",
    "    block1_conv2 = Conv2D(64, (3, 3), padding=\"same\", activation=\"relu\")(block1_conv1)\n",
    "    block1_conv3 = Conv2D(64, (3, 3), padding=\"same\", activation=\"relu\")(block1_conv2)\n",
    "    block1_pool1 = MaxPool2D(2)(block1_conv3)\n",
    "\n",
    "    block2_conv1 = Conv2D(128, (3, 3), padding=\"same\", activation=\"relu\")(block1_pool1)\n",
    "    block2_conv2 = Conv2D(128, (3, 3), padding=\"same\", activation=\"relu\")(block2_conv1)\n",
    "    block2_conv3 = Conv2D(128, (3, 3), padding=\"same\", activation=\"relu\")(block2_conv2)\n",
    "    block2_pool1 = MaxPool2D(2)(block2_conv3)\n",
    "\n",
    "    block3_conv1 = Conv2D(256, (3, 3), padding=\"same\", activation=\"relu\")(block2_pool1)\n",
    "    block3_conv2 = Conv2D(256, (3, 3), padding=\"same\", activation=\"relu\")(block3_conv1)\n",
    "    block3_conv3 = Conv2D(256, (3, 3), padding=\"same\", activation=\"relu\")(block3_conv2)\n",
    "    block3_pool1 = MaxPool2D(2)(block3_conv3)\n",
    "\n",
    "    block4_conv1 = Conv2D(512, (3, 3), padding=\"same\", activation=\"relu\")(block3_pool1)\n",
    "    block4_conv2 = Conv2D(512, (3, 3), padding=\"same\", activation=\"relu\")(block4_conv1)\n",
    "    block4_conv3 = Conv2D(512, (3, 3), padding=\"same\", activation=\"relu\")(block4_conv2)\n",
    "    block4_upsa1 = UpSampling2D(2, interpolation=\"bilinear\")(block4_conv3)\n",
    "    \n",
    "    block5_conc1 = Concatenate()([block3_conv3, block4_upsa1])\n",
    "    block5_conv1 = Conv2D(256, (3, 3), padding=\"same\", activation=\"relu\")(block5_conc1)\n",
    "    block5_conv2 = Conv2D(256, (3, 3), padding=\"same\", activation=\"relu\")(block5_conv1)\n",
    "    block5_conv3 = Conv2D(256, (3, 3), padding=\"same\", activation=\"relu\")(block5_conv2)\n",
    "    block5_upsa1 = UpSampling2D(2, interpolation=\"bilinear\")(block5_conv3)\n",
    "\n",
    "    block6_conc1 = Concatenate()([block2_conv3, block5_upsa1])\n",
    "    block6_conv1 = Conv2D(128, (3, 3), padding=\"same\", activation=\"relu\")(block6_conc1)\n",
    "    block6_conv2 = Conv2D(128, (3, 3), padding=\"same\", activation=\"relu\")(block6_conv1)\n",
    "    block6_conv3 = Conv2D(128, (3, 3), padding=\"same\", activation=\"relu\")(block6_conv2)\n",
    "    block6_upsa1 = UpSampling2D(2, interpolation=\"bilinear\")(block6_conv3)\n",
    "\n",
    "    block7_conc1 = Concatenate()([block1_conv3, block6_upsa1])\n",
    "    block7_conv1 = Conv2D(64, (3, 3), padding=\"same\", activation=\"relu\")(block7_conc1)\n",
    "    block7_conv2 = Conv2D(64, (3, 3), padding=\"same\", activation=\"relu\")(block7_conv1)\n",
    "    block7_conv3 = Conv2D(64, (3, 3), padding=\"same\", activation=\"relu\")(block7_conv2)\n",
    "    \n",
    "    block8_output = Conv2D(num_classes, (1, 1), padding=\"same\", activation=\"sigmoid\")(block7_conv3)\n",
    "\n",
    "    return Model(inputs=block0_input, outputs=block8_output)"
   ]
  },
  {
   "cell_type": "code",
   "execution_count": 11,
   "metadata": {},
   "outputs": [],
   "source": [
    "img_shape = 256"
   ]
  },
  {
   "cell_type": "code",
   "execution_count": 12,
   "metadata": {},
   "outputs": [],
   "source": [
    "model = get_model(None, 32)"
   ]
  },
  {
   "cell_type": "code",
   "execution_count": 13,
   "metadata": {},
   "outputs": [],
   "source": [
    "model.load_weights(\"callbacks/Unet0loadW_05-11_16-42/best_w.h5\")"
   ]
  },
  {
   "cell_type": "code",
   "execution_count": 14,
   "metadata": {},
   "outputs": [
    {
     "ename": "NameError",
     "evalue": "name 'fdf' is not defined",
     "output_type": "error",
     "traceback": [
      "\u001b[0;31m---------------------------------------------------------------------------\u001b[0m",
      "\u001b[0;31mNameError\u001b[0m                                 Traceback (most recent call last)",
      "\u001b[0;32m<ipython-input-14-f1047c2be5fb>\u001b[0m in \u001b[0;36m<module>\u001b[0;34m\u001b[0m\n\u001b[0;32m----> 1\u001b[0;31m \u001b[0mfdf\u001b[0m\u001b[0;34m\u001b[0m\u001b[0;34m\u001b[0m\u001b[0m\n\u001b[0m",
      "\u001b[0;31mNameError\u001b[0m: name 'fdf' is not defined"
     ]
    }
   ],
   "source": [
    "fdf"
   ]
  },
  {
   "cell_type": "code",
   "execution_count": 36,
   "metadata": {},
   "outputs": [
    {
     "data": {
      "text/plain": [
       "'-'"
      ]
     },
     "execution_count": 36,
     "metadata": {},
     "output_type": "execute_result"
    }
   ],
   "source": [
    "class_encoded[0][2][0]"
   ]
  },
  {
   "cell_type": "code",
   "execution_count": 46,
   "metadata": {},
   "outputs": [],
   "source": [
    "import time"
   ]
  },
  {
   "cell_type": "code",
   "execution_count": 47,
   "metadata": {},
   "outputs": [
    {
     "name": "stdout",
     "output_type": "stream",
     "text": [
      "person, individual, someone, somebody, mortal, soul\n"
     ]
    },
    {
     "data": {
      "image/png": "[encoded data removed]",
      "text/plain": [
       "<Figure size 432x288 with 1 Axes>"
      ]
     },
     "metadata": {
      "needs_background": "light"
     },
     "output_type": "display_data"
    }
   ],
   "source": [
    "cap = cv2.VideoCapture(0)\n",
    "try:\n",
    "    time.sleep(5)\n",
    "    #while(True):\n",
    "    ret, frame = cap.read()\n",
    "    img = cv2.resize(frame, (img_shape, img_shape)) / 255\n",
    "\n",
    "    pred = model.predict(np.array([img]))[0]\n",
    "    \n",
    "    i = 10\n",
    "    print(class_encoded[i][2][0])\n",
    "    imshow(pred[:, :, i])\n",
    "#     if cv2.waitKey(1) & 0xFF == ord('q'):\n",
    "#         break\n",
    "finally:    \n",
    "    cap.release()\n",
    "    cv2.destroyAllWindows()"
   ]
  },
  {
   "cell_type": "code",
   "execution_count": 16,
   "metadata": {},
   "outputs": [],
   "source": [
    "cap.release()\n",
    "cv2.destroyAllWindows()"
   ]
  },
  {
   "cell_type": "code",
   "execution_count": 20,
   "metadata": {},
   "outputs": [],
   "source": [
    "cap = cv2.VideoCapture(0)"
   ]
  },
  {
   "cell_type": "code",
   "execution_count": 21,
   "metadata": {},
   "outputs": [],
   "source": [
    "ret, frame = cap.read()"
   ]
  },
  {
   "cell_type": "code",
   "execution_count": null,
   "metadata": {},
   "outputs": [],
   "source": []
  },
  {
   "cell_type": "code",
   "execution_count": null,
   "metadata": {},
   "outputs": [],
   "source": [
    "def pred_img(path):\n",
    "    img = imread(path)\n",
    "    img = cv2.resize(img, (img_shape, img_shape)) / 255\n",
    "\n",
    "    pred = model.predict(np.array([img]))[0]\n",
    "    \n",
    "    for i in range(32):\n",
    "        mask = pred[:, :, i]\n",
    "        print(np.sum(mask) / img_shape /img_shape)\n",
    "        \n",
    "        plt.figure(figsize=(10, 10))\n",
    "        \n",
    "        plt.subplot(1, 2, 1)\n",
    "        \n",
    "        plt.imshow(img)\n",
    "        \n",
    "        plt.subplot(1, 2, 2)\n",
    "        plt.imshow(mask, cmap=\"gray\", norm=None)\n",
    "        \n",
    "        plt.title(class_encoded[i][2])\n",
    "        plt.show()\n",
    "    return pred"
   ]
  },
  {
   "cell_type": "code",
   "execution_count": null,
   "metadata": {
    "scrolled": false
   },
   "outputs": [],
   "source": [
    "pred = pred_img('/home/rv/vJTMMZikU5k.jpg')"
   ]
  },
  {
   "cell_type": "code",
   "execution_count": null,
   "metadata": {},
   "outputs": [],
   "source": []
  }
 ],
 "metadata": {
  "kernelspec": {
   "display_name": "Python 3",
   "language": "python",
   "name": "python3"
  },
  "language_info": {
   "codemirror_mode": {
    "name": "ipython",
    "version": 3
   },
   "file_extension": ".py",
   "mimetype": "text/x-python",
   "name": "python",
   "nbconvert_exporter": "python",
   "pygments_lexer": "ipython3",
   "version": "3.7.4"
  }
 },
 "nbformat": 4,
 "nbformat_minor": 2
}
