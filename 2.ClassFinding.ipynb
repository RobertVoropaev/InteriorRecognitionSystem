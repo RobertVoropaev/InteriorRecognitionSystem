{
 "cells": [
  {
   "cell_type": "markdown",
   "metadata": {},
   "source": [
    "# Разработка системы распознавания предметов интерьера в потоковом видео\n",
    "\n",
    "## Часть2: Выявление частоты классов в датасете"
   ]
  },
  {
   "cell_type": "code",
   "execution_count": 39,
   "metadata": {},
   "outputs": [],
   "source": [
    "%matplotlib inline\n",
    "\n",
    "#System\n",
    "import os\n",
    "import shutil\n",
    "import random\n",
    "\n",
    "#Base\n",
    "import numpy as np\n",
    "import pandas as pd\n",
    "import matplotlib.pyplot as plt\n",
    "import cv2\n",
    "\n",
    "#Seed\n",
    "seed = 99\n",
    "np.random.seed(seed)\n",
    "tf.set_random_seed(seed)\n",
    "random.seed(seed)"
   ]
  },
  {
   "cell_type": "markdown",
   "metadata": {},
   "source": [
    "### Ранее написанные функции"
   ]
  },
  {
   "cell_type": "markdown",
   "metadata": {},
   "source": [
    " Загрузим ранее написанные функции для удобной работы с именами файлов и преобразования файлов с описанием в pandas.DataFrame"
   ]
  },
  {
   "cell_type": "code",
   "execution_count": 40,
   "metadata": {},
   "outputs": [],
   "source": [
    "img_dir = 'data/ADE20K_filtred/images/'"
   ]
  },
  {
   "cell_type": "code",
   "execution_count": 41,
   "metadata": {},
   "outputs": [],
   "source": [
    "def get_format(file_name):\n",
    "    name_split = file_name.split(\"_\")\n",
    "    file_format = name_split[0:-1] + name_split[-1].split(\".\")\n",
    "    ade, train_or_val, name = file_format[:3]\n",
    "    extension = file_format[-1]\n",
    "    \n",
    "    description = 0\n",
    "    parts_num = 0\n",
    "    if extension == 'jpg':\n",
    "        description = 'img'\n",
    "    elif extension == 'txt':\n",
    "        description = 'text'\n",
    "    else: #png\n",
    "        description = file_format[3]\n",
    "        if file_format[4].isdigit():\n",
    "            parts_num = int(file_format[4])\n",
    "    return [name, description, train_or_val, parts_num]"
   ]
  },
  {
   "cell_type": "markdown",
   "metadata": {},
   "source": [
    "Но преобразуем их с учётом того, что мы будем работать только с верхними уровнями объектов"
   ]
  },
  {
   "cell_type": "code",
   "execution_count": 42,
   "metadata": {},
   "outputs": [],
   "source": [
    "def get_seg_description(path):\n",
    "    description = []\n",
    "    with open(path) as f:\n",
    "        for line in f:\n",
    "            (instance_n, part_level, occluded,\n",
    "            class_name, original_name, attributes_list) = line.rstrip().split(\" # \")\n",
    "            \n",
    "            if part_level != '0':  #добавляем только элементы верхнего уровня\n",
    "                continue\n",
    "            \n",
    "            description.append([class_name, original_name, attributes_list.strip(\"\\\"\")])\n",
    "    description = pd.DataFrame(description).rename(columns={0: \"class_name\", 1: \"original_name\", 2: \"attributes\" })\n",
    "    return description"
   ]
  },
  {
   "cell_type": "code",
   "execution_count": 63,
   "metadata": {},
   "outputs": [
    {
     "data": {
      "text/html": [
       "<div>\n",
       "<style scoped>\n",
       "    .dataframe tbody tr th:only-of-type {\n",
       "        vertical-align: middle;\n",
       "    }\n",
       "\n",
       "    .dataframe tbody tr th {\n",
       "        vertical-align: top;\n",
       "    }\n",
       "\n",
       "    .dataframe thead th {\n",
       "        text-align: right;\n",
       "    }\n",
       "</style>\n",
       "<table border=\"1\" class=\"dataframe\">\n",
       "  <thead>\n",
       "    <tr style=\"text-align: right;\">\n",
       "      <th></th>\n",
       "      <th>class_name</th>\n",
       "      <th>original_name</th>\n",
       "      <th>attributes</th>\n",
       "    </tr>\n",
       "  </thead>\n",
       "  <tbody>\n",
       "    <tr>\n",
       "      <td>0</td>\n",
       "      <td>wall</td>\n",
       "      <td>wall</td>\n",
       "      <td></td>\n",
       "    </tr>\n",
       "    <tr>\n",
       "      <td>1</td>\n",
       "      <td>wall</td>\n",
       "      <td>wall</td>\n",
       "      <td></td>\n",
       "    </tr>\n",
       "    <tr>\n",
       "      <td>2</td>\n",
       "      <td>wall</td>\n",
       "      <td>wall</td>\n",
       "      <td></td>\n",
       "    </tr>\n",
       "    <tr>\n",
       "      <td>3</td>\n",
       "      <td>wall</td>\n",
       "      <td>wall</td>\n",
       "      <td></td>\n",
       "    </tr>\n",
       "    <tr>\n",
       "      <td>4</td>\n",
       "      <td>wall</td>\n",
       "      <td>wall</td>\n",
       "      <td></td>\n",
       "    </tr>\n",
       "  </tbody>\n",
       "</table>\n",
       "</div>"
      ],
      "text/plain": [
       "  class_name original_name attributes\n",
       "0       wall          wall           \n",
       "1       wall          wall           \n",
       "2       wall          wall           \n",
       "3       wall          wall           \n",
       "4       wall          wall           "
      ]
     },
     "execution_count": 63,
     "metadata": {},
     "output_type": "execute_result"
    }
   ],
   "source": [
    "get_seg_description(img_dir + 'train/a/alcove/ADE_train_00001217_atr.txt').head()"
   ]
  },
  {
   "cell_type": "markdown",
   "metadata": {},
   "source": [
    "### Получение полного списка классов"
   ]
  },
  {
   "cell_type": "markdown",
   "metadata": {},
   "source": [
    "Для определения того, какие классы нам нужно детектировать выделим все классы из описаний фотографий."
   ]
  },
  {
   "cell_type": "code",
   "execution_count": 44,
   "metadata": {},
   "outputs": [],
   "source": [
    "def get_full_df_description(dir_path):\n",
    "    df = pd.DataFrame(columns=[\"class_name\", \"original_name\", \"attributes\"])\n",
    "    s = 0\n",
    "    for path, dirs, files in os.walk(dir_path):\n",
    "        if files:\n",
    "            for file in files:\n",
    "                name, description, train_or_val, parts_num = get_format(file)\n",
    "                if description == 'text':\n",
    "                    s += 1\n",
    "                    if s % 100 == 0:\n",
    "                        print(str(s) + \" done, size: \" + str(df.shape) )\n",
    "                        \n",
    "                    df = df.append(get_seg_description(path +'/' + file), ignore_index=True)\n",
    "    return df"
   ]
  },
  {
   "cell_type": "code",
   "execution_count": 45,
   "metadata": {
    "scrolled": true
   },
   "outputs": [
    {
     "name": "stdout",
     "output_type": "stream",
     "text": [
      "100 done, size: (1538, 3)\n",
      "200 done, size: (4064, 3)\n",
      "300 done, size: (7190, 3)\n",
      "400 done, size: (10455, 3)\n",
      "500 done, size: (13909, 3)\n",
      "600 done, size: (17057, 3)\n",
      "700 done, size: (20342, 3)\n",
      "800 done, size: (23606, 3)\n",
      "900 done, size: (26670, 3)\n",
      "1000 done, size: (28989, 3)\n",
      "1100 done, size: (31311, 3)\n",
      "1200 done, size: (33564, 3)\n",
      "1300 done, size: (36022, 3)\n",
      "1400 done, size: (38986, 3)\n",
      "1500 done, size: (41238, 3)\n",
      "1600 done, size: (44139, 3)\n",
      "1700 done, size: (47081, 3)\n",
      "1800 done, size: (50156, 3)\n",
      "1900 done, size: (53103, 3)\n",
      "2000 done, size: (55474, 3)\n",
      "2100 done, size: (57733, 3)\n",
      "2200 done, size: (59438, 3)\n",
      "2300 done, size: (61357, 3)\n",
      "2400 done, size: (64021, 3)\n",
      "2500 done, size: (65825, 3)\n",
      "2600 done, size: (67819, 3)\n",
      "2700 done, size: (69667, 3)\n",
      "2800 done, size: (71569, 3)\n",
      "2900 done, size: (74665, 3)\n",
      "3000 done, size: (77696, 3)\n",
      "3100 done, size: (81417, 3)\n",
      "3200 done, size: (83983, 3)\n",
      "3300 done, size: (86552, 3)\n",
      "3400 done, size: (88910, 3)\n",
      "3500 done, size: (91387, 3)\n",
      "3600 done, size: (93755, 3)\n",
      "3700 done, size: (95989, 3)\n",
      "3800 done, size: (97928, 3)\n",
      "3900 done, size: (99865, 3)\n",
      "4000 done, size: (101645, 3)\n",
      "4100 done, size: (103500, 3)\n",
      "4200 done, size: (105458, 3)\n",
      "4300 done, size: (107271, 3)\n",
      "4400 done, size: (109078, 3)\n",
      "4500 done, size: (110907, 3)\n",
      "4600 done, size: (112774, 3)\n",
      "4700 done, size: (114566, 3)\n",
      "4800 done, size: (116402, 3)\n",
      "4900 done, size: (118317, 3)\n",
      "5000 done, size: (120190, 3)\n",
      "5100 done, size: (122091, 3)\n",
      "5200 done, size: (124057, 3)\n",
      "5300 done, size: (126850, 3)\n",
      "5400 done, size: (128746, 3)\n",
      "5500 done, size: (130436, 3)\n",
      "5600 done, size: (132147, 3)\n",
      "5700 done, size: (133968, 3)\n",
      "5800 done, size: (135631, 3)\n",
      "5900 done, size: (137303, 3)\n",
      "6000 done, size: (138886, 3)\n",
      "6100 done, size: (140976, 3)\n",
      "6200 done, size: (142900, 3)\n",
      "6300 done, size: (144665, 3)\n",
      "6400 done, size: (148389, 3)\n",
      "6500 done, size: (151881, 3)\n",
      "6600 done, size: (155168, 3)\n",
      "6700 done, size: (158596, 3)\n",
      "6800 done, size: (162097, 3)\n",
      "6900 done, size: (165639, 3)\n",
      "7000 done, size: (168881, 3)\n",
      "7100 done, size: (172432, 3)\n",
      "CPU times: user 1min, sys: 270 ms, total: 1min 1s\n",
      "Wall time: 1min 1s\n"
     ]
    }
   ],
   "source": [
    "%%time\n",
    "full_df = get_full_df_description(img_dir)"
   ]
  },
  {
   "cell_type": "markdown",
   "metadata": {},
   "source": [
    "Посмотрим на получившиеся значения"
   ]
  },
  {
   "cell_type": "code",
   "execution_count": 38,
   "metadata": {},
   "outputs": [
    {
     "data": {
      "text/html": [
       "<div>\n",
       "<style scoped>\n",
       "    .dataframe tbody tr th:only-of-type {\n",
       "        vertical-align: middle;\n",
       "    }\n",
       "\n",
       "    .dataframe tbody tr th {\n",
       "        vertical-align: top;\n",
       "    }\n",
       "\n",
       "    .dataframe thead th {\n",
       "        text-align: right;\n",
       "    }\n",
       "</style>\n",
       "<table border=\"1\" class=\"dataframe\">\n",
       "  <thead>\n",
       "    <tr style=\"text-align: right;\">\n",
       "      <th></th>\n",
       "      <th>class_name</th>\n",
       "      <th>original_name</th>\n",
       "      <th>attributes</th>\n",
       "    </tr>\n",
       "  </thead>\n",
       "  <tbody>\n",
       "    <tr>\n",
       "      <td>0</td>\n",
       "      <td>sky</td>\n",
       "      <td>sky</td>\n",
       "      <td></td>\n",
       "    </tr>\n",
       "    <tr>\n",
       "      <td>1</td>\n",
       "      <td>wall</td>\n",
       "      <td>wall</td>\n",
       "      <td></td>\n",
       "    </tr>\n",
       "    <tr>\n",
       "      <td>2</td>\n",
       "      <td>wall</td>\n",
       "      <td>wall</td>\n",
       "      <td></td>\n",
       "    </tr>\n",
       "    <tr>\n",
       "      <td>3</td>\n",
       "      <td>wall</td>\n",
       "      <td>wall</td>\n",
       "      <td></td>\n",
       "    </tr>\n",
       "    <tr>\n",
       "      <td>4</td>\n",
       "      <td>wall</td>\n",
       "      <td>wall</td>\n",
       "      <td></td>\n",
       "    </tr>\n",
       "    <tr>\n",
       "      <td>...</td>\n",
       "      <td>...</td>\n",
       "      <td>...</td>\n",
       "      <td>...</td>\n",
       "    </tr>\n",
       "    <tr>\n",
       "      <td>174895</td>\n",
       "      <td>cushion</td>\n",
       "      <td>cushion</td>\n",
       "      <td></td>\n",
       "    </tr>\n",
       "    <tr>\n",
       "      <td>174896</td>\n",
       "      <td>lamp</td>\n",
       "      <td>table lamp</td>\n",
       "      <td>direct,general,off,volumetric</td>\n",
       "    </tr>\n",
       "    <tr>\n",
       "      <td>174897</td>\n",
       "      <td>lamp</td>\n",
       "      <td>table lamp</td>\n",
       "      <td>off</td>\n",
       "    </tr>\n",
       "    <tr>\n",
       "      <td>174898</td>\n",
       "      <td>lamp</td>\n",
       "      <td>table lamp</td>\n",
       "      <td>direct,general,off,volumetric</td>\n",
       "    </tr>\n",
       "    <tr>\n",
       "      <td>174899</td>\n",
       "      <td>painting, picture</td>\n",
       "      <td>picture</td>\n",
       "      <td>photo</td>\n",
       "    </tr>\n",
       "  </tbody>\n",
       "</table>\n",
       "<p>174900 rows × 3 columns</p>\n",
       "</div>"
      ],
      "text/plain": [
       "               class_name original_name                     attributes\n",
       "0                     sky           sky                               \n",
       "1                    wall          wall                               \n",
       "2                    wall          wall                               \n",
       "3                    wall          wall                               \n",
       "4                    wall          wall                               \n",
       "...                   ...           ...                            ...\n",
       "174895            cushion       cushion                               \n",
       "174896               lamp    table lamp  direct,general,off,volumetric\n",
       "174897               lamp    table lamp                            off\n",
       "174898               lamp    table lamp  direct,general,off,volumetric\n",
       "174899  painting, picture       picture                          photo\n",
       "\n",
       "[174900 rows x 3 columns]"
      ]
     },
     "execution_count": 38,
     "metadata": {},
     "output_type": "execute_result"
    }
   ],
   "source": [
    "full_df"
   ]
  },
  {
   "cell_type": "markdown",
   "metadata": {},
   "source": [
    "### Посмотрим на самые частые"
   ]
  },
  {
   "cell_type": "markdown",
   "metadata": {},
   "source": [
    "Выявление самых частых классов"
   ]
  },
  {
   "cell_type": "code",
   "execution_count": 27,
   "metadata": {},
   "outputs": [
    {
     "data": {
      "text/plain": [
       "wall                                     20374\n",
       "chair                                    10156\n",
       "floor, flooring                           7137\n",
       "painting, picture                         6955\n",
       "cabinet                                   6838\n",
       "windowpane, window                        6689\n",
       "table                                     6221\n",
       "light, light source                       5830\n",
       "ceiling                                   5318\n",
       "lamp                                      5099\n",
       "cushion                                   4756\n",
       "curtain, drape, drapery, mantle, pall     3999\n",
       "book                                      3820\n",
       "door                                      2703\n",
       "plant, flora, plant life                  2616\n",
       "Name: class_name, dtype: int64"
      ]
     },
     "execution_count": 27,
     "metadata": {},
     "output_type": "execute_result"
    }
   ],
   "source": [
    "full_df.class_name.value_counts()[:15]"
   ]
  },
  {
   "cell_type": "markdown",
   "metadata": {},
   "source": [
    "Посмотрим количество уникальных значений"
   ]
  },
  {
   "cell_type": "code",
   "execution_count": 25,
   "metadata": {},
   "outputs": [
    {
     "data": {
      "text/plain": [
       "(1263,)"
      ]
     },
     "execution_count": 25,
     "metadata": {},
     "output_type": "execute_result"
    }
   ],
   "source": [
    "full_df.class_name.unique().shape"
   ]
  },
  {
   "cell_type": "markdown",
   "metadata": {},
   "source": [
    "Определим минимальное количество слов"
   ]
  },
  {
   "cell_type": "code",
   "execution_count": 60,
   "metadata": {},
   "outputs": [
    {
     "data": {
      "text/plain": [
       "261"
      ]
     },
     "execution_count": 60,
     "metadata": {},
     "output_type": "execute_result"
    }
   ],
   "source": [
    "min_obj = 25 #Минимальное количество объектов для равпознавания\n",
    "indexes = list(full_df.class_name.value_counts() > min_obj)\n",
    "full_df.class_name.value_counts()[indexes]\n",
    "class_list = list(full_df.class_name.value_counts()[indexes].index)\n",
    "len(class_list)"
   ]
  },
  {
   "cell_type": "code",
   "execution_count": 62,
   "metadata": {},
   "outputs": [
    {
     "data": {
      "text/plain": [
       "['wall',\n",
       " 'chair',\n",
       " 'floor, flooring',\n",
       " 'painting, picture',\n",
       " 'cabinet',\n",
       " 'windowpane, window',\n",
       " 'table',\n",
       " 'light, light source',\n",
       " 'ceiling',\n",
       " 'lamp',\n",
       " 'cushion',\n",
       " 'curtain, drape, drapery, mantle, pall',\n",
       " 'book',\n",
       " 'door',\n",
       " 'plant, flora, plant life',\n",
       " 'bed',\n",
       " 'pillow',\n",
       " 'armchair',\n",
       " 'bottle',\n",
       " 'person, individual, someone, somebody, mortal, soul',\n",
       " 'vase',\n",
       " 'box',\n",
       " 'sofa, couch, lounge',\n",
       " 'wall socket, wall plug, electric outlet, electrical outlet, outlet, electric receptacle',\n",
       " 'shelf',\n",
       " 'flower',\n",
       " 'plate',\n",
       " 'glass, drinking glass',\n",
       " 'rug, carpet, carpeting',\n",
       " 'sink',\n",
       " 'sconce',\n",
       " 'mirror',\n",
       " 'pot, flowerpot',\n",
       " 'work surface',\n",
       " 'towel',\n",
       " 'desk',\n",
       " 'swivel chair',\n",
       " 'coffee table, cocktail table',\n",
       " 'bowl',\n",
       " 'plaything, toy',\n",
       " 'basket, handbasket',\n",
       " 'pot',\n",
       " 'candlestick, candle holder',\n",
       " 'stool',\n",
       " 'switch, electric switch, electrical switch',\n",
       " 'chest of drawers, chest, bureau, dresser',\n",
       " 'television receiver, television, television set, tv, tv set, idiot box, boob tube, telly, goggle box',\n",
       " 'blind, screen',\n",
       " 'clock',\n",
       " 'stove, kitchen stove, range, kitchen range, cooking stove',\n",
       " 'chandelier, pendant, pendent',\n",
       " 'column, pillar',\n",
       " 'figurine, statuette',\n",
       " 'spotlight, spot',\n",
       " 'paper',\n",
       " 'fireplace, hearth, open fireplace',\n",
       " 'tray',\n",
       " 'computer, computing machine, computing device, data processor, electronic computer, information processing system',\n",
       " 'railing, rail',\n",
       " 'telephone, phone, telephone set',\n",
       " 'toilet, can, commode, crapper, pot, potty, stool, throne',\n",
       " 'bathtub, bathing tub, bath, tub',\n",
       " 'ottoman, pouf, pouffe, puff, hassock',\n",
       " 'fan',\n",
       " 'refrigerator, icebox',\n",
       " 'magazine',\n",
       " 'jar',\n",
       " 'wardrobe, closet, press',\n",
       " 'napkin, table napkin, serviette',\n",
       " 'microwave, microwave oven',\n",
       " 'fruit',\n",
       " 'countertop',\n",
       " 'seat',\n",
       " 'bookcase',\n",
       " 'double door',\n",
       " 'mug',\n",
       " 'pool ball',\n",
       " 'doorframe, doorcase',\n",
       " 'shoe',\n",
       " 'monitor, monitoring device',\n",
       " 'hood, exhaust hood',\n",
       " 'poster, posting, placard, notice, bill, card',\n",
       " 'dishwasher, dish washer, dishwashing machine',\n",
       " 'blanket, cover',\n",
       " 'candle, taper, wax light',\n",
       " 'oven',\n",
       " 'loudspeaker, speaker, speaker unit, loudspeaker system, speaker system',\n",
       " 'pool table, billiard table, snooker table',\n",
       " 'bag',\n",
       " 'pitcher, ewer',\n",
       " 'place mat',\n",
       " 'cup',\n",
       " 'radiator',\n",
       " 'fluorescent, fluorescent fixture',\n",
       " 'coffee maker',\n",
       " 'faucet, spigot',\n",
       " 'document, written document, papers',\n",
       " 'bucket, pail',\n",
       " 'screen, crt screen',\n",
       " 'notebook',\n",
       " 'knife',\n",
       " 'booklet, brochure, folder, leaflet, pamphlet',\n",
       " 'toilet tissue, toilet paper, bathroom tissue',\n",
       " 'shirt',\n",
       " 'apparel, wearing apparel, dress, clothes',\n",
       " 'ashcan, trash can, garbage can, wastebin, ash bin, ash-bin, ashbin, dustbin, trash barrel, trash bin',\n",
       " 'stairway, staircase',\n",
       " 'can, tin, tin can',\n",
       " 'tree',\n",
       " 'sculpture',\n",
       " 'screen door, screen',\n",
       " 'board, plank',\n",
       " 'signboard, sign',\n",
       " 'drawing',\n",
       " 'bench',\n",
       " 'soap dispenser',\n",
       " 'beam',\n",
       " 'laptop, laptop computer',\n",
       " 'teapot',\n",
       " 'pen',\n",
       " 'counter',\n",
       " 'kitchen island',\n",
       " 'cue, cue stick, pool cue, pool stick',\n",
       " 'remote control, remote',\n",
       " 'jacket',\n",
       " 'rod',\n",
       " 'teacup',\n",
       " 'shower',\n",
       " 'step, stair',\n",
       " 'food, solid food',\n",
       " 'heater, warmer',\n",
       " 'kettle, boiler',\n",
       " 'pottery, clayware',\n",
       " 'arcade machine',\n",
       " 'bannister, banister, balustrade, balusters, handrail',\n",
       " 'buffet, counter, sideboard',\n",
       " 'dishrag, dishcloth',\n",
       " 'ball',\n",
       " 'bar',\n",
       " 'vent, venthole, vent-hole, blowhole',\n",
       " 'chest',\n",
       " 'hanger',\n",
       " 'grill, grille, grillwork',\n",
       " 'towel rack, towel horse',\n",
       " 'soap',\n",
       " 'trouser, pant',\n",
       " 'booth, cubicle, stall, kiosk',\n",
       " 'drawer',\n",
       " 'air conditioner, air conditioning',\n",
       " 'sweater, jumper',\n",
       " 'bouquet, corsage, posy, nosegay',\n",
       " 'console table, console',\n",
       " 'canister, cannister, tin',\n",
       " 'bag, handbag, pocketbook, purse',\n",
       " 'printer',\n",
       " 'paper towel',\n",
       " 'fork',\n",
       " 'sky',\n",
       " 'pipe, pipage, piping',\n",
       " 'system',\n",
       " 'saucepan',\n",
       " 'stairs, steps',\n",
       " 'rack',\n",
       " 'soap dish',\n",
       " 'cradle',\n",
       " 'hat, chapeau, lid',\n",
       " 'bag, traveling bag, travelling bag, grip, suitcase',\n",
       " 'ashtray',\n",
       " 'toaster',\n",
       " 'washer, automatic washer, washing machine',\n",
       " 'pane, pane of glass, window glass',\n",
       " 'building, edifice',\n",
       " 'candelabrum, candelabra',\n",
       " 'screen, silver screen, projection screen',\n",
       " 'shower stall, shower bath',\n",
       " 'spoon',\n",
       " 'coffee cup',\n",
       " 'partition, divider',\n",
       " 'keyboard',\n",
       " 'shutter',\n",
       " 'bulletin board, notice board',\n",
       " 'machine',\n",
       " 'backpack, back pack, knapsack, packsack, rucksack, haversack',\n",
       " 'light bulb, lightbulb, bulb, incandescent lamp, electric light, electric-light bulb',\n",
       " 'tapestry, tapis',\n",
       " 'eiderdown, duvet, continental quilt',\n",
       " 'skylight, fanlight',\n",
       " 'spectacles, specs, eyeglasses, glasses',\n",
       " 'piano, pianoforte, forte-piano',\n",
       " 'mousepad, mouse mat',\n",
       " 'microphone, mike',\n",
       " 'blackboard, chalkboard',\n",
       " 'baseboard, mopboard, skirting board',\n",
       " 'canopy',\n",
       " 'rocking chair, rocker',\n",
       " 'carapace, shell, cuticle, shield',\n",
       " 'sprinkler',\n",
       " 'table football',\n",
       " 'hot tub',\n",
       " 'base, pedestal, stand',\n",
       " 'jersey, t-shirt, tee shirt',\n",
       " 'water',\n",
       " 'projector',\n",
       " 'chopping board, cutting board',\n",
       " 'rock, stone',\n",
       " 'mouse, computer mouse',\n",
       " 'calendar',\n",
       " 'skirt',\n",
       " 'fabric, cloth, material, textile',\n",
       " 'frying pan',\n",
       " 'case, display case, showcase, vitrine',\n",
       " 'decoration, ornament, ornamentation',\n",
       " 'curtains',\n",
       " 'guitar',\n",
       " 'mattress',\n",
       " 'desk organizer',\n",
       " 'radio',\n",
       " 'bidet',\n",
       " 'pipe, tube',\n",
       " 'gym shoe, sneaker, tennis shoe',\n",
       " 'folders',\n",
       " 'briefcase',\n",
       " 'boot',\n",
       " 'notepad',\n",
       " 'casserole',\n",
       " 'flag',\n",
       " 'dish rack',\n",
       " 'vending machine',\n",
       " 'closet',\n",
       " 'pool balls',\n",
       " 'bread, breadstuff, staff of life',\n",
       " 'deck chair, beach chair',\n",
       " 'hotplate',\n",
       " 'grand piano, grand',\n",
       " 'fire extinguisher, extinguisher, asphyxiator',\n",
       " 'diploma',\n",
       " 'handle, grip, handgrip, hold',\n",
       " 'blinds',\n",
       " 'television stand',\n",
       " 'hangers',\n",
       " 'table tennis',\n",
       " 'food processor',\n",
       " 'decor',\n",
       " 'crock',\n",
       " 'towel ring',\n",
       " 'trophy, prize',\n",
       " 'map',\n",
       " 'ball, globe, orb',\n",
       " 'toothbrush',\n",
       " 'figure',\n",
       " 'display board',\n",
       " 'statue',\n",
       " 'file, file cabinet, filing cabinet',\n",
       " 'blender',\n",
       " 'card game, cards',\n",
       " 'sea',\n",
       " 'cutlery',\n",
       " 'toilet brush',\n",
       " 'cellular telephone, cellular phone, cellphone, cell, mobile phone',\n",
       " 'cap',\n",
       " 'ladder']"
      ]
     },
     "execution_count": 62,
     "metadata": {},
     "output_type": "execute_result"
    }
   ],
   "source": [
    "class_list"
   ]
  },
  {
   "cell_type": "markdown",
   "metadata": {},
   "source": [
    "Удалим те, которые нам точно не нужны"
   ]
  },
  {
   "cell_type": "code",
   "execution_count": 23,
   "metadata": {},
   "outputs": [],
   "source": [
    "exclusion_list = ['wall', 'floor', 'ceiling']"
   ]
  },
  {
   "cell_type": "code",
   "execution_count": 24,
   "metadata": {},
   "outputs": [],
   "source": [
    "def remove_exclusion(class_list, exclusion_list):\n",
    "    for val in exclusion_list:\n",
    "        for class_ in class_list:\n",
    "            class_arr = class_.split(', ')\n",
    "            for class_inst in class_arr:\n",
    "                if val == class_inst:\n",
    "                    class_list.remove(class_)"
   ]
  },
  {
   "cell_type": "code",
   "execution_count": 25,
   "metadata": {},
   "outputs": [],
   "source": [
    "remove_exclusion(class_list, exclusion_list)"
   ]
  },
  {
   "cell_type": "markdown",
   "metadata": {},
   "source": [
    "И добавим \"пустой\" класс"
   ]
  },
  {
   "cell_type": "code",
   "execution_count": 26,
   "metadata": {},
   "outputs": [
    {
     "data": {
      "text/plain": [
       "['-',\n",
       " 'chair',\n",
       " 'painting, picture',\n",
       " 'cabinet',\n",
       " 'windowpane, window',\n",
       " 'table',\n",
       " 'light, light source',\n",
       " 'lamp',\n",
       " 'cushion',\n",
       " 'curtain, drape, drapery, mantle, pall',\n",
       " 'book',\n",
       " 'door',\n",
       " 'plant, flora, plant life',\n",
       " 'bed',\n",
       " 'pillow',\n",
       " 'armchair',\n",
       " 'bottle',\n",
       " 'person, individual, someone, somebody, mortal, soul',\n",
       " 'vase',\n",
       " 'box',\n",
       " 'sofa, couch, lounge',\n",
       " 'wall socket, wall plug, electric outlet, electrical outlet, outlet, electric receptacle',\n",
       " 'shelf',\n",
       " 'flower',\n",
       " 'plate',\n",
       " 'glass, drinking glass',\n",
       " 'rug, carpet, carpeting',\n",
       " 'sink',\n",
       " 'sconce',\n",
       " 'mirror',\n",
       " 'pot, flowerpot',\n",
       " 'work surface',\n",
       " 'towel',\n",
       " 'desk',\n",
       " 'swivel chair',\n",
       " 'coffee table, cocktail table',\n",
       " 'bowl',\n",
       " 'plaything, toy',\n",
       " 'basket, handbasket',\n",
       " 'pot',\n",
       " 'candlestick, candle holder',\n",
       " 'stool',\n",
       " 'switch, electric switch, electrical switch',\n",
       " 'chest of drawers, chest, bureau, dresser',\n",
       " 'television receiver, television, television set, tv, tv set, idiot box, boob tube, telly, goggle box',\n",
       " 'blind, screen',\n",
       " 'clock',\n",
       " 'chandelier, pendant, pendent',\n",
       " 'stove, kitchen stove, range, kitchen range, cooking stove',\n",
       " 'column, pillar',\n",
       " 'figurine, statuette',\n",
       " 'spotlight, spot',\n",
       " 'paper',\n",
       " 'fireplace, hearth, open fireplace',\n",
       " 'tray',\n",
       " 'railing, rail',\n",
       " 'computer, computing machine, computing device, data processor, electronic computer, information processing system',\n",
       " 'telephone, phone, telephone set',\n",
       " 'toilet, can, commode, crapper, pot, potty, stool, throne',\n",
       " 'bathtub, bathing tub, bath, tub',\n",
       " 'ottoman, pouf, pouffe, puff, hassock',\n",
       " 'fan',\n",
       " 'refrigerator, icebox',\n",
       " 'magazine',\n",
       " 'jar',\n",
       " 'wardrobe, closet, press',\n",
       " 'napkin, table napkin, serviette',\n",
       " 'microwave, microwave oven',\n",
       " 'fruit',\n",
       " 'countertop',\n",
       " 'seat',\n",
       " 'bookcase',\n",
       " 'double door',\n",
       " 'mug',\n",
       " 'pool ball',\n",
       " 'doorframe, doorcase',\n",
       " 'shoe',\n",
       " 'monitor, monitoring device',\n",
       " 'hood, exhaust hood',\n",
       " 'poster, posting, placard, notice, bill, card',\n",
       " 'dishwasher, dish washer, dishwashing machine',\n",
       " 'blanket, cover',\n",
       " 'candle, taper, wax light',\n",
       " 'oven',\n",
       " 'loudspeaker, speaker, speaker unit, loudspeaker system, speaker system',\n",
       " 'pool table, billiard table, snooker table',\n",
       " 'bag',\n",
       " 'pitcher, ewer',\n",
       " 'place mat',\n",
       " 'cup',\n",
       " 'radiator',\n",
       " 'fluorescent, fluorescent fixture',\n",
       " 'coffee maker']"
      ]
     },
     "execution_count": 26,
     "metadata": {},
     "output_type": "execute_result"
    }
   ],
   "source": [
    "class_list = [\"-\"] + class_list\n",
    "class_list"
   ]
  },
  {
   "cell_type": "markdown",
   "metadata": {},
   "source": [
    "Мы получили список допустимых для нас классов"
   ]
  },
  {
   "cell_type": "markdown",
   "metadata": {},
   "source": [
    "### Совмещение с индексами классов"
   ]
  },
  {
   "cell_type": "code",
   "execution_count": 27,
   "metadata": {},
   "outputs": [],
   "source": [
    "obj_names = 0\n",
    "with open('data/ADE20K_filtred/objectnames.txt', 'r') as f:\n",
    "    obj_names = f.readline().split(\"\\t\")\n",
    "    obj_names = list(map(lambda name: name.strip(\"\\'\"), obj_names))"
   ]
  },
  {
   "cell_type": "code",
   "execution_count": 28,
   "metadata": {},
   "outputs": [
    {
     "data": {
      "text/plain": [
       "2977"
      ]
     },
     "execution_count": 28,
     "metadata": {},
     "output_type": "execute_result"
    }
   ],
   "source": [
    "obj_names.index('wall')"
   ]
  },
  {
   "cell_type": "code",
   "execution_count": 29,
   "metadata": {},
   "outputs": [],
   "source": [
    "class_index_dict = dict()\n",
    "index_old_to_new = dict()\n",
    "for class_name, i in zip(class_list, range(len(class_list))):\n",
    "    class_index_dict[class_name] = obj_names.index(class_name)\n",
    "    index_old_to_new[obj_names.index(class_name)] = i"
   ]
  },
  {
   "cell_type": "code",
   "execution_count": 30,
   "metadata": {},
   "outputs": [
    {
     "data": {
      "text/plain": [
       "dict_values([0, 470, 1734, 349, 3054, 2683, 1450, 1394, 688, 686, 235, 773, 1909, 164, 1868, 56, 248, 1830, 2931, 265, 2472, 2981, 2328, 977, 1918, 1097, 2177, 2387, 2242, 1563, 1980, 3086, 2820, 723, 2678, 570, 258, 1929, 145, 1973, 377, 2585, 2675, 490, 2732, 211, 529, 479, 2597, 580, 917, 2508, 1755, 942, 2849, 2052, 590, 2729, 2792, 154, 1701, 893, 2095, 1484, 1348, 2984, 1643, 1550, 1032, 628, 2271, 238, 782, 1618, 1943, 777, 2340, 1582, 1259, 1968, 746, 205, 375, 1707, 1473, 1947, 94, 1891, 1895, 676, 2045, 981, 568])"
      ]
     },
     "execution_count": 30,
     "metadata": {},
     "output_type": "execute_result"
    }
   ],
   "source": [
    "class_index_dict.values()"
   ]
  },
  {
   "cell_type": "markdown",
   "metadata": {},
   "source": [
    "Мы получили отображение имени класса в его номер"
   ]
  },
  {
   "cell_type": "code",
   "execution_count": 31,
   "metadata": {},
   "outputs": [
    {
     "data": {
      "text/plain": [
       "dict_items([(0, 0), (470, 1), (1734, 2), (349, 3), (3054, 4), (2683, 5), (1450, 6), (1394, 7), (688, 8), (686, 9), (235, 10), (773, 11), (1909, 12), (164, 13), (1868, 14), (56, 15), (248, 16), (1830, 17), (2931, 18), (265, 19), (2472, 20), (2981, 21), (2328, 22), (977, 23), (1918, 24), (1097, 25), (2177, 26), (2387, 27), (2242, 28), (1563, 29), (1980, 30), (3086, 31), (2820, 32), (723, 33), (2678, 34), (570, 35), (258, 36), (1929, 37), (145, 38), (1973, 39), (377, 40), (2585, 41), (2675, 42), (490, 43), (2732, 44), (211, 45), (529, 46), (479, 47), (2597, 48), (580, 49), (917, 50), (2508, 51), (1755, 52), (942, 53), (2849, 54), (2052, 55), (590, 56), (2729, 57), (2792, 58), (154, 59), (1701, 60), (893, 61), (2095, 62), (1484, 63), (1348, 64), (2984, 65), (1643, 66), (1550, 67), (1032, 68), (628, 69), (2271, 70), (238, 71), (782, 72), (1618, 73), (1943, 74), (777, 75), (2340, 76), (1582, 77), (1259, 78), (1968, 79), (746, 80), (205, 81), (375, 82), (1707, 83), (1473, 84), (1947, 85), (94, 86), (1891, 87), (1895, 88), (676, 89), (2045, 90), (981, 91), (568, 92)])"
      ]
     },
     "execution_count": 31,
     "metadata": {},
     "output_type": "execute_result"
    }
   ],
   "source": [
    "index_old_to_new.items()"
   ]
  },
  {
   "cell_type": "markdown",
   "metadata": {},
   "source": [
    "И отображение из старой кодировки в новую"
   ]
  },
  {
   "cell_type": "code",
   "execution_count": 32,
   "metadata": {},
   "outputs": [],
   "source": [
    "import csv\n",
    "\n",
    "with open('data/ADE20K_filtred/index_old_to_new.csv', 'w') as f:\n",
    "    w = csv.writer(f)\n",
    "    w.writerows(index_old_to_new.items())"
   ]
  },
  {
   "cell_type": "code",
   "execution_count": 33,
   "metadata": {},
   "outputs": [],
   "source": [
    "with open('data/ADE20K_filtred/class_index_dict.csv', 'w') as f:\n",
    "    w = csv.writer(f)\n",
    "    w.writerows(class_index_dict.items())"
   ]
  },
  {
   "cell_type": "code",
   "execution_count": 34,
   "metadata": {},
   "outputs": [
    {
     "data": {
      "text/plain": [
       "93"
      ]
     },
     "execution_count": 34,
     "metadata": {},
     "output_type": "execute_result"
    }
   ],
   "source": [
    "len(index_old_to_new)"
   ]
  },
  {
   "cell_type": "code",
   "execution_count": 56,
   "metadata": {},
   "outputs": [],
   "source": [
    "list_old_to_new = list(index_old_to_new.items())\n",
    "list_class_to_old = list(class_index_dict.items())"
   ]
  },
  {
   "cell_type": "code",
   "execution_count": 63,
   "metadata": {},
   "outputs": [],
   "source": [
    "with open('data/ADE20K_filtred/class_old_new.csv', 'w') as f:\n",
    "    for i in range(len(list_old_to_new)):\n",
    "        class_ = list_class_to_old[i][0]\n",
    "        old = list_old_to_new[i][0]\n",
    "        new = list_old_to_new[i][1]\n",
    "        line = class_ + \";\" + str(old) + \";\" + str(new)\n",
    "        f.write(line+\"\\n\")"
   ]
  },
  {
   "cell_type": "code",
   "execution_count": null,
   "metadata": {},
   "outputs": [],
   "source": []
  },
  {
   "cell_type": "code",
   "execution_count": null,
   "metadata": {},
   "outputs": [],
   "source": []
  },
  {
   "cell_type": "code",
   "execution_count": null,
   "metadata": {},
   "outputs": [],
   "source": [
    "class ClassDescription():\n",
    "    def __init__(self, path):\n",
    "        "
   ]
  }
 ],
 "metadata": {
  "kernelspec": {
   "display_name": "Python 3",
   "language": "python",
   "name": "python3"
  },
  "language_info": {
   "codemirror_mode": {
    "name": "ipython",
    "version": 3
   },
   "file_extension": ".py",
   "mimetype": "text/x-python",
   "name": "python",
   "nbconvert_exporter": "python",
   "pygments_lexer": "ipython3",
   "version": "3.7.4"
  }
 },
 "nbformat": 4,
 "nbformat_minor": 2
}
