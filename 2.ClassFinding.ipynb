{
 "cells": [
  {
   "cell_type": "markdown",
   "metadata": {},
   "source": [
    "# Разработка системы распознавания предметов интерьера в потоковом видео\n",
    "\n",
    "## Часть 2: Выявление частоты классов в датасете"
   ]
  },
  {
   "cell_type": "code",
   "execution_count": 1,
   "metadata": {},
   "outputs": [],
   "source": [
    "%matplotlib inline\n",
    "\n",
    "#System\n",
    "import os\n",
    "import shutil\n",
    "import random\n",
    "\n",
    "#Base\n",
    "import numpy as np\n",
    "import pandas as pd\n",
    "import matplotlib.pyplot as plt\n",
    "import cv2\n",
    "import seaborn as sns\n",
    "from skimage.io import imread\n",
    "\n",
    "#Seed\n",
    "seed = 99\n",
    "np.random.seed(seed)\n",
    "random.seed(seed)"
   ]
  },
  {
   "cell_type": "code",
   "execution_count": 2,
   "metadata": {},
   "outputs": [],
   "source": [
    "from scripts_.PathFinder import PathFinder\n",
    "from scripts_.SegEncoder import SegEncoder\n",
    "from scripts_.ClassList import ClassList\n",
    "\n",
    "pf = PathFinder()\n",
    "se = SegEncoder(\"static/objectnames.txt\")\n",
    "\n",
    "img_dir = 'data/ADE20K_filtred/images/'"
   ]
  },
  {
   "cell_type": "markdown",
   "metadata": {},
   "source": [
    "### 1. Класс для работы с данными"
   ]
  },
  {
   "cell_type": "markdown",
   "metadata": {},
   "source": [
    "Напишем класс для работы с данными"
   ]
  },
  {
   "cell_type": "markdown",
   "metadata": {},
   "source": [
    "Выделим все объекты из папки, сортируем их по количествую вхождений, установив порог для минимального числа вхождений"
   ]
  },
  {
   "cell_type": "code",
   "execution_count": 3,
   "metadata": {},
   "outputs": [
    {
     "name": "stdout",
     "output_type": "stream",
     "text": [
      "Size: 7166\n",
      "Done: 500\n",
      "Done: 1000\n",
      "Done: 1500\n",
      "Done: 2000\n",
      "Done: 2500\n",
      "Done: 3000\n",
      "Done: 3500\n",
      "Done: 4000\n",
      "Done: 4500\n",
      "Done: 5000\n",
      "Done: 5500\n",
      "Done: 6000\n",
      "Done: 6500\n",
      "Done: 7000\n",
      "CPU times: user 3min 34s, sys: 35.9 s, total: 4min 10s\n",
      "Wall time: 5min 40s\n"
     ]
    }
   ],
   "source": [
    "%%time\n",
    "cl = ClassList(img_dir, min_obj=50, progress_step=500)"
   ]
  },
  {
   "cell_type": "code",
   "execution_count": 4,
   "metadata": {
    "scrolled": true
   },
   "outputs": [
    {
     "data": {
      "text/plain": [
       "[['-'],\n",
       " ['wall'],\n",
       " ['chair'],\n",
       " ['floor, flooring'],\n",
       " ['painting, picture'],\n",
       " ['cabinet'],\n",
       " ['windowpane, window'],\n",
       " ['table'],\n",
       " ['light, light source'],\n",
       " ['ceiling']]"
      ]
     },
     "execution_count": 4,
     "metadata": {},
     "output_type": "execute_result"
    }
   ],
   "source": [
    "cl.class_list[:10]"
   ]
  },
  {
   "cell_type": "code",
   "execution_count": 5,
   "metadata": {},
   "outputs": [
    {
     "data": {
      "text/plain": [
       "193"
      ]
     },
     "execution_count": 5,
     "metadata": {},
     "output_type": "execute_result"
    }
   ],
   "source": [
    "cl.size()"
   ]
  },
  {
   "cell_type": "markdown",
   "metadata": {},
   "source": [
    "### 2. Удаление лишних классов"
   ]
  },
  {
   "cell_type": "code",
   "execution_count": 6,
   "metadata": {},
   "outputs": [
    {
     "data": {
      "text/plain": [
       "True"
      ]
     },
     "execution_count": 6,
     "metadata": {},
     "output_type": "execute_result"
    }
   ],
   "source": [
    "cl.remove_class('curtain, drape, drapery, mantle, pall' )\n",
    "cl.remove_class('plant, flora, plant life')\n",
    "cl.remove_class('bottle')\n",
    "cl.remove_class('vase')\n",
    "cl.remove_class('box')\n",
    "cl.remove_class('wall socket, wall plug, electric outlet, electrical outlet, outlet, electric receptacle')\n",
    "cl.remove_class('flower')\n",
    "cl.remove_class('plate')\n",
    "cl.remove_class('glass, drinking glass')\n",
    "cl.remove_class('mirror')\n",
    "cl.remove_class('pot, flowerpot')\n",
    "cl.remove_class('towel')\n",
    "cl.remove_class('bowl')\n",
    "cl.remove_class('plaything, toy')\n",
    "cl.remove_class('basket, handbasket')\n",
    "cl.remove_class('pot')\n",
    "cl.remove_class('switch, electric switch, electrical switch')\n",
    "cl.remove_class('column, pillar')\n",
    "cl.remove_class('figurine, statuette')\n",
    "cl.remove_class('tray')\n",
    "cl.remove_class('railing, rail')\n",
    "cl.remove_class('jar')\n",
    "cl.remove_class('napkin, table napkin, serviette')\n",
    "cl.remove_class('fruit')\n",
    "cl.remove_class('mug')\n",
    "cl.remove_class('pool ball')\n",
    "cl.remove_class('shoe')\n",
    "cl.remove_class('hood, exhaust hood')\n",
    "cl.remove_class('pool table, billiard table, snooker table')\n",
    "cl.remove_class('bag')\n",
    "cl.remove_class('pitcher, ewer')\n",
    "cl.remove_class('place mat')\n",
    "cl.remove_class('cup')\n",
    "cl.remove_class('bucket, pail')\n",
    "cl.remove_class('knife')\n",
    "cl.remove_class('toilet tissue, toilet paper, bathroom tissue')\n",
    "cl.remove_class('ashcan, trash can, garbage can, wastebin, ash bin, ash-bin, ashbin, dustbin, trash barrel, trash bin')\n",
    "cl.remove_class('can, tin, tin can')\n",
    "cl.remove_class('tree')\n",
    "cl.remove_class('sculpture')\n",
    "cl.remove_class('signboard, sign')\n",
    "cl.remove_class('soap dispenser')\n",
    "cl.remove_class('pen')\n",
    "cl.remove_class('cue, cue stick, pool cue, pool stick')\n",
    "cl.remove_class('rod')\n",
    "cl.remove_class('teacup')\n",
    "cl.remove_class('food, solid food')\n",
    "cl.remove_class('pottery, clayware')\n",
    "cl.remove_class('arcade machine')\n",
    "cl.remove_class('dishrag, dishcloth')\n",
    "cl.remove_class('ball')\n",
    "cl.remove_class('towel rack, towel horse')\n",
    "cl.remove_class('soap')\n",
    "cl.remove_class('canister, cannister, tin')\n",
    "cl.remove_class('bag, handbag, pocketbook, purse')\n",
    "cl.remove_class('paper towel')\n",
    "cl.remove_class('sky')\n",
    "cl.remove_class('fork')\n",
    "cl.remove_class('pipe, pipage, piping')\n",
    "cl.remove_class('saucepan')\n",
    "cl.remove_class('soap dish')\n",
    "cl.remove_class('ashtray')\n",
    "cl.remove_class('bag, traveling bag, travelling bag, grip, suitcase')\n",
    "cl.remove_class('building, edifice')\n",
    "cl.remove_class('spoon')\n",
    "cl.remove_class('partition, divider')\n",
    "cl.remove_class('coffee cup')\n",
    "cl.remove_class('shutter')\n",
    "cl.remove_class('backpack, back pack, knapsack, packsack, rucksack, haversack')\n",
    "cl.remove_class('poster, posting, placard, notice, bill, card')\n",
    "cl.remove_class('bouquet, corsage, posy, nosegay')\n",
    "cl.remove_class('microphone, mike')\n",
    "cl.remove_class('mousepad, mouse mat')\n",
    "cl.remove_class('machine')\n",
    "cl.remove_class('remote control, remote')\n",
    "cl.remove_class('vent, venthole, vent-hole, blowhole')\n",
    "cl.remove_class('spectacles, specs, eyeglasses, glasses')\n",
    "cl.remove_class('hanger')\n",
    "cl.remove_class('countertop')\n",
    "cl.remove_class('beam')\n",
    "cl.remove_class('heater, warmer')\n",
    "cl.remove_class('kettle, boiler')\n",
    "cl.remove_class('bannister, banister, balustrade, balusters, handrail')\n",
    "cl.remove_class('toaster')\n",
    "cl.remove_class('washer, automatic washer, washing machine')\n",
    "cl.remove_class('piano, pianoforte, forte-piano')\n",
    "cl.remove_class('printer')\n",
    "cl.remove_class('dishwasher, dish washer, dishwashing machine')\n",
    "cl.remove_class('loudspeaker, speaker, speaker unit, loudspeaker system, speaker system')"
   ]
  },
  {
   "cell_type": "code",
   "execution_count": 7,
   "metadata": {},
   "outputs": [
    {
     "data": {
      "text/plain": [
       "104"
      ]
     },
     "execution_count": 7,
     "metadata": {},
     "output_type": "execute_result"
    }
   ],
   "source": [
    "cl.size()"
   ]
  },
  {
   "cell_type": "markdown",
   "metadata": {},
   "source": [
    "### 3. Объединение классов"
   ]
  },
  {
   "cell_type": "code",
   "execution_count": 8,
   "metadata": {},
   "outputs": [
    {
     "data": {
      "text/plain": [
       "True"
      ]
     },
     "execution_count": 8,
     "metadata": {},
     "output_type": "execute_result"
    }
   ],
   "source": [
    "cl.join('floor, flooring', 'wall')\n",
    "cl.join('ceiling', 'wall')\n",
    "\n",
    "cl.join('cushion', 'bed')\n",
    "cl.join('pillow', 'bed')\n",
    "cl.join('eiderdown, duvet, continental quilt', 'bed')\n",
    "cl.join('blanket, cover', 'bed')\n",
    "cl.join('cradle', 'bed')\n",
    "\n",
    "cl.join('swivel chair', 'chair')\n",
    "cl.join('seat', 'chair')\n",
    "cl.join('armchair', 'chair')\n",
    "cl.join('stool', 'chair')\n",
    "cl.join('bench', 'chair')\n",
    "\n",
    "cl.join('book', 'paper')\n",
    "cl.join('magazine', 'paper')\n",
    "cl.join('notebook', 'paper')\n",
    "cl.join('document, written document, papers', 'paper')\n",
    "cl.join('booklet, brochure, folder, leaflet, pamphlet', 'paper')\n",
    "cl.join('ottoman, pouf, pouffe, puff, hassock', 'paper')\n",
    "\n",
    "cl.join('double door', 'door')\n",
    "cl.join('doorframe, doorcase', 'door')\n",
    "cl.join('screen door, screen', 'door')\n",
    "\n",
    "cl.join('lamp', 'light, light source')\n",
    "cl.join('sconce', 'light, light source')\n",
    "cl.join('candlestick, candle holder', 'light, light source')\n",
    "cl.join('spotlight, spot', 'light, light source')\n",
    "cl.join('candle, taper, wax light', 'light, light source')\n",
    "cl.join('fluorescent, fluorescent fixture', 'light, light source')\n",
    "cl.join('light bulb, lightbulb, bulb, incandescent lamp, electric light, electric-light bulb', 'light, light source')\n",
    "cl.join('candelabrum, candelabra', 'light, light source')\n",
    "cl.join('chandelier, pendant, pendent', 'light, light source')\n",
    "\n",
    "cl.join('work surface', 'table')\n",
    "cl.join('desk', 'table')\n",
    "cl.join('coffee table, cocktail table', 'table')\n",
    "cl.join('kitchen island', 'table')\n",
    "cl.join('counter', 'table')\n",
    "cl.join('console table, console', 'table')\n",
    "\n",
    "cl.join('blind, screen', 'windowpane, window')\n",
    "\n",
    "cl.join('television receiver, television, television set, tv, tv set, idiot box, boob tube, telly, goggle box', 'monitor, monitoring device')\n",
    "cl.join('screen, crt screen', 'monitor, monitoring device')\n",
    "cl.join('screen, silver screen, projection screen', 'monitor, monitoring device')\n",
    "\n",
    "cl.join('faucet, spigot', 'sink')\n",
    "\n",
    "cl.join('sofa, couch, lounge', 'bed')\n",
    "\n",
    "cl.join('bulletin board, notice board', 'blackboard, chalkboard')\n",
    "cl.join('board, plank', 'blackboard, chalkboard')\n",
    "\n",
    "cl.join('skylight, fanlight', 'windowpane, window')\n",
    "cl.join('pane, pane of glass, window glass', 'windowpane, window')\n",
    "\n",
    "cl.join('laptop, laptop computer', 'computer, computing machine, computing device, data processor, electronic computer, information processing system')\n",
    "cl.join('keyboard', 'computer, computing machine, computing device, data processor, electronic computer, information processing system')\n",
    "cl.join('system', 'computer, computing machine, computing device, data processor, electronic computer, information processing system')\n",
    "\n",
    "cl.join('jacket', 'shirt')\n",
    "cl.join('sweater, jumper', 'shirt')\n",
    "cl.join('trouser, pant', 'shirt')\n",
    "cl.join('hat, chapeau, lid', 'shirt')\n",
    "cl.join('shirt', 'apparel, wearing apparel, dress, clothes')\n",
    "\n",
    "cl.join('grill, grille, grillwork', 'stove, kitchen stove, range, kitchen range, cooking stove')\n",
    "\n",
    "cl.join('microwave, microwave oven', 'oven')\n",
    "\n",
    "cl.join('shelf', 'cabinet')\n",
    "cl.join('bookcase', 'cabinet')\n",
    "cl.join('wardrobe, closet, press', 'cabinet')\n",
    "cl.join('rack', 'cabinet')\n",
    "\n",
    "cl.join('stairway, staircase', 'stairs, steps')\n",
    "cl.join('step, stair', 'stairs, steps')\n",
    "\n",
    "cl.join('tapestry, tapis', 'rug, carpet, carpeting')\n",
    "\n",
    "cl.join('drawing', 'painting, picture')\n",
    "\n",
    "cl.join('chest', 'chest of drawers, chest, bureau, dresser')\n",
    "cl.join('drawer', 'chest of drawers, chest, bureau, dresser')\n",
    "\n",
    "cl.join('buffet, counter, sideboard', 'bar')\n",
    "cl.join('booth, cubicle, stall, kiosk', 'bar')\n",
    "\n",
    "cl.join('shower stall, shower bath', 'shower')\n",
    "\n",
    "cl.join('teapot', 'coffee maker')\n",
    "\n",
    "cl.join('radiator', 'air conditioner, air conditioning')\n",
    "cl.join('fan', 'air conditioner, air conditioning')"
   ]
  },
  {
   "cell_type": "code",
   "execution_count": 9,
   "metadata": {},
   "outputs": [
    {
     "data": {
      "text/plain": [
       "32"
      ]
     },
     "execution_count": 9,
     "metadata": {},
     "output_type": "execute_result"
    }
   ],
   "source": [
    "cl.size()"
   ]
  },
  {
   "cell_type": "code",
   "execution_count": 10,
   "metadata": {},
   "outputs": [
    {
     "data": {
      "text/plain": [
       "[['-'],\n",
       " ['wall', 'floor, flooring', 'ceiling'],\n",
       " ['chair', 'swivel chair', 'seat', 'armchair', 'stool', 'bench'],\n",
       " ['painting, picture', 'drawing'],\n",
       " ['cabinet', 'shelf', 'bookcase', 'wardrobe, closet, press', 'rack'],\n",
       " ['windowpane, window',\n",
       "  'blind, screen',\n",
       "  'skylight, fanlight',\n",
       "  'pane, pane of glass, window glass'],\n",
       " ['table',\n",
       "  'work surface',\n",
       "  'desk',\n",
       "  'coffee table, cocktail table',\n",
       "  'kitchen island',\n",
       "  'counter',\n",
       "  'console table, console'],\n",
       " ['light, light source',\n",
       "  'lamp',\n",
       "  'sconce',\n",
       "  'candlestick, candle holder',\n",
       "  'spotlight, spot',\n",
       "  'candle, taper, wax light',\n",
       "  'fluorescent, fluorescent fixture',\n",
       "  'light bulb, lightbulb, bulb, incandescent lamp, electric light, electric-light bulb',\n",
       "  'candelabrum, candelabra',\n",
       "  'chandelier, pendant, pendent'],\n",
       " ['door', 'double door', 'doorframe, doorcase', 'screen door, screen'],\n",
       " ['bed',\n",
       "  'cushion',\n",
       "  'pillow',\n",
       "  'eiderdown, duvet, continental quilt',\n",
       "  'blanket, cover',\n",
       "  'cradle',\n",
       "  'sofa, couch, lounge'],\n",
       " ['person, individual, someone, somebody, mortal, soul'],\n",
       " ['rug, carpet, carpeting', 'tapestry, tapis'],\n",
       " ['sink', 'faucet, spigot'],\n",
       " ['chest of drawers, chest, bureau, dresser', 'chest', 'drawer'],\n",
       " ['clock'],\n",
       " ['stove, kitchen stove, range, kitchen range, cooking stove',\n",
       "  'grill, grille, grillwork'],\n",
       " ['paper',\n",
       "  'book',\n",
       "  'magazine',\n",
       "  'notebook',\n",
       "  'document, written document, papers',\n",
       "  'booklet, brochure, folder, leaflet, pamphlet',\n",
       "  'ottoman, pouf, pouffe, puff, hassock'],\n",
       " ['fireplace, hearth, open fireplace'],\n",
       " ['computer, computing machine, computing device, data processor, electronic computer, information processing system',\n",
       "  'laptop, laptop computer',\n",
       "  'keyboard',\n",
       "  'system'],\n",
       " ['telephone, phone, telephone set'],\n",
       " ['toilet, can, commode, crapper, pot, potty, stool, throne'],\n",
       " ['bathtub, bathing tub, bath, tub'],\n",
       " ['refrigerator, icebox'],\n",
       " ['monitor, monitoring device',\n",
       "  'television receiver, television, television set, tv, tv set, idiot box, boob tube, telly, goggle box',\n",
       "  'screen, crt screen',\n",
       "  'screen, silver screen, projection screen'],\n",
       " ['oven', 'microwave, microwave oven'],\n",
       " ['coffee maker', 'teapot'],\n",
       " ['apparel, wearing apparel, dress, clothes',\n",
       "  'shirt',\n",
       "  'jacket',\n",
       "  'sweater, jumper',\n",
       "  'trouser, pant',\n",
       "  'hat, chapeau, lid'],\n",
       " ['shower', 'shower stall, shower bath'],\n",
       " ['bar', 'buffet, counter, sideboard', 'booth, cubicle, stall, kiosk'],\n",
       " ['air conditioner, air conditioning', 'radiator', 'fan'],\n",
       " ['stairs, steps', 'stairway, staircase', 'step, stair'],\n",
       " ['blackboard, chalkboard', 'bulletin board, notice board', 'board, plank']]"
      ]
     },
     "execution_count": 10,
     "metadata": {},
     "output_type": "execute_result"
    }
   ],
   "source": [
    "cl.class_list"
   ]
  },
  {
   "cell_type": "code",
   "execution_count": 11,
   "metadata": {},
   "outputs": [],
   "source": [
    "cl.save_class_list('static/class_list.txt')"
   ]
  },
  {
   "cell_type": "markdown",
   "metadata": {},
   "source": [
    "### 4. Совмещение с индексами классов"
   ]
  },
  {
   "cell_type": "markdown",
   "metadata": {},
   "source": [
    "Запишем правила перекодирования классов в файл"
   ]
  },
  {
   "cell_type": "code",
   "execution_count": 12,
   "metadata": {},
   "outputs": [],
   "source": [
    "cl.save_class_encode('static/class_encode.txt')"
   ]
  }
 ],
 "metadata": {
  "kernelspec": {
   "display_name": "Python 3",
   "language": "python",
   "name": "python3"
  },
  "language_info": {
   "codemirror_mode": {
    "name": "ipython",
    "version": 3
   },
   "file_extension": ".py",
   "mimetype": "text/x-python",
   "name": "python",
   "nbconvert_exporter": "python",
   "pygments_lexer": "ipython3",
   "version": "3.7.4"
  }
 },
 "nbformat": 4,
 "nbformat_minor": 2
}
